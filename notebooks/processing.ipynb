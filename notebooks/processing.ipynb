{
 "cells": [
  {
   "cell_type": "code",
   "execution_count": 25,
   "id": "dbc68270",
   "metadata": {},
   "outputs": [],
   "source": [
    "import pandas as pd\n",
    "import numpy as np\n",
    "import matplotlib.pyplot as plt\n",
    "import seaborn as sns\n",
    "from datetime import datetime\n",
    "import math\n",
    "from sklearn.feature_extraction import DictVectorizer\n",
    "from sklearn.model_selection import train_test_split\n",
    "from tensorflow.keras import *\n",
    "import tensorflow"
   ]
  },
  {
   "cell_type": "code",
   "execution_count": 26,
   "id": "0cf19411",
   "metadata": {},
   "outputs": [],
   "source": [
    "DATA_PATH = '../raw_data'"
   ]
  },
  {
   "cell_type": "code",
   "execution_count": 27,
   "id": "342dce17",
   "metadata": {
    "scrolled": true
   },
   "outputs": [],
   "source": [
    "train = pd.read_csv(f'{DATA_PATH}/train.csv')\n",
    "X = train.drop(columns='Yards')\n",
    "y = train.Yards"
   ]
  },
  {
   "cell_type": "code",
   "execution_count": 28,
   "id": "e3835af0",
   "metadata": {},
   "outputs": [
    {
     "data": {
      "text/plain": [
       "object     24\n",
       "int64      15\n",
       "float64    10\n",
       "dtype: int64"
      ]
     },
     "execution_count": 28,
     "metadata": {},
     "output_type": "execute_result"
    }
   ],
   "source": [
    "train.dtypes.value_counts()"
   ]
  },
  {
   "cell_type": "markdown",
   "id": "c2bf35bd",
   "metadata": {},
   "source": [
    "# Categorical Features"
   ]
  },
  {
   "cell_type": "code",
   "execution_count": 29,
   "id": "2b7ee802",
   "metadata": {},
   "outputs": [],
   "source": [
    "train_cat = train.select_dtypes(include=['object'])"
   ]
  },
  {
   "cell_type": "code",
   "execution_count": 30,
   "id": "a70005e6",
   "metadata": {
    "scrolled": true
   },
   "outputs": [
    {
     "data": {
      "text/plain": [
       "Team                     2\n",
       "DisplayName           2568\n",
       "GameClock              901\n",
       "PossessionTeam          32\n",
       "FieldPosition           32\n",
       "OffenseFormation         8\n",
       "OffensePersonnel        61\n",
       "DefensePersonnel        45\n",
       "PlayDirection            2\n",
       "TimeHandoff          30709\n",
       "TimeSnap             30721\n",
       "PlayerHeight            16\n",
       "PlayerBirthDate       1897\n",
       "PlayerCollegeName      314\n",
       "Position                25\n",
       "HomeTeamAbbr            32\n",
       "VisitorTeamAbbr         32\n",
       "Stadium                 61\n",
       "Location                67\n",
       "StadiumType             33\n",
       "Turf                    23\n",
       "GameWeather             73\n",
       "WindSpeed               69\n",
       "WindDirection           58\n",
       "dtype: int64"
      ]
     },
     "execution_count": 30,
     "metadata": {},
     "output_type": "execute_result"
    }
   ],
   "source": [
    "train_cat.nunique()"
   ]
  },
  {
   "cell_type": "code",
   "execution_count": 31,
   "id": "2b1aaa9c",
   "metadata": {},
   "outputs": [
    {
     "name": "stdout",
     "output_type": "stream",
     "text": [
      "<class 'pandas.core.frame.DataFrame'>\n",
      "RangeIndex: 682154 entries, 0 to 682153\n",
      "Data columns (total 24 columns):\n",
      " #   Column             Non-Null Count   Dtype \n",
      "---  ------             --------------   ----- \n",
      " 0   Team               682154 non-null  object\n",
      " 1   DisplayName        682154 non-null  object\n",
      " 2   GameClock          682154 non-null  object\n",
      " 3   PossessionTeam     682154 non-null  object\n",
      " 4   FieldPosition      673552 non-null  object\n",
      " 5   OffenseFormation   682066 non-null  object\n",
      " 6   OffensePersonnel   682154 non-null  object\n",
      " 7   DefensePersonnel   682154 non-null  object\n",
      " 8   PlayDirection      682154 non-null  object\n",
      " 9   TimeHandoff        682154 non-null  object\n",
      " 10  TimeSnap           682154 non-null  object\n",
      " 11  PlayerHeight       682154 non-null  object\n",
      " 12  PlayerBirthDate    682154 non-null  object\n",
      " 13  PlayerCollegeName  682154 non-null  object\n",
      " 14  Position           682154 non-null  object\n",
      " 15  HomeTeamAbbr       682154 non-null  object\n",
      " 16  VisitorTeamAbbr    682154 non-null  object\n",
      " 17  Stadium            682154 non-null  object\n",
      " 18  Location           682154 non-null  object\n",
      " 19  StadiumType        640464 non-null  object\n",
      " 20  Turf               682154 non-null  object\n",
      " 21  GameWeather        621984 non-null  object\n",
      " 22  WindSpeed          590282 non-null  object\n",
      " 23  WindDirection      577478 non-null  object\n",
      "dtypes: object(24)\n",
      "memory usage: 124.9+ MB\n"
     ]
    }
   ],
   "source": [
    "train_cat.info()"
   ]
  },
  {
   "cell_type": "markdown",
   "id": "dc1f82f9",
   "metadata": {},
   "source": [
    "## Team"
   ]
  },
  {
   "cell_type": "code",
   "execution_count": 32,
   "id": "3126ea04",
   "metadata": {},
   "outputs": [
    {
     "data": {
      "text/plain": [
       "array(['away', 'home'], dtype=object)"
      ]
     },
     "execution_count": 32,
     "metadata": {},
     "output_type": "execute_result"
    }
   ],
   "source": [
    "train_cat.Team.unique()"
   ]
  },
  {
   "cell_type": "code",
   "execution_count": 33,
   "id": "5d0cff79",
   "metadata": {},
   "outputs": [],
   "source": [
    "def proc_team(x):\n",
    "    return 1 if x == 'home' else 0"
   ]
  },
  {
   "cell_type": "markdown",
   "id": "71d1bc65",
   "metadata": {},
   "source": [
    "## DisplayName"
   ]
  },
  {
   "cell_type": "code",
   "execution_count": 34,
   "id": "5e184707",
   "metadata": {},
   "outputs": [
    {
     "data": {
      "text/plain": [
       "2568"
      ]
     },
     "execution_count": 34,
     "metadata": {},
     "output_type": "execute_result"
    }
   ],
   "source": [
    "train_cat.DisplayName.nunique()"
   ]
  },
  {
   "cell_type": "markdown",
   "id": "9e83e415",
   "metadata": {},
   "source": [
    "## GameClock"
   ]
  },
  {
   "cell_type": "code",
   "execution_count": 35,
   "id": "1a737918",
   "metadata": {},
   "outputs": [
    {
     "data": {
      "text/plain": [
       "array(['14:14:00', '13:52:00', '13:02:00', '12:12:00', '12:08:00',\n",
       "       '11:21:00', '10:34:00', '09:34:00', '09:25:00', '06:34:00',\n",
       "       '03:47:00', '03:03:00', '01:36:00', '00:37:00', '00:23:00',\n",
       "       '14:44:00', '13:17:00', '12:49:00', '11:23:00', '09:57:00',\n",
       "       '09:17:00', '08:38:00', '08:15:00', '07:31:00', '07:22:00',\n",
       "       '06:11:00', '05:29:00', '03:44:00', '02:29:00', '15:00:00',\n",
       "       '10:53:00', '10:23:00', '09:13:00', '07:55:00', '07:08:00',\n",
       "       '05:35:00', '05:03:00', '04:21:00', '02:31:00', '02:00:00',\n",
       "       '00:57:00', '00:04:00', '12:29:00', '10:28:00', '10:00:00',\n",
       "       '08:20:00', '05:19:00', '04:15:00', '04:05:00', '02:44:00',\n",
       "       '02:37:00', '02:32:00', '14:52:00', '12:48:00', '12:15:00',\n",
       "       '11:35:00', '10:33:00', '09:40:00', '06:13:00', '01:57:00',\n",
       "       '00:20:00', '14:30:00', '13:22:00', '06:16:00', '05:48:00',\n",
       "       '04:44:00', '03:55:00', '02:38:00', '02:10:00', '14:54:00',\n",
       "       '12:00:00', '10:41:00', '09:05:00', '08:05:00', '06:52:00',\n",
       "       '01:48:00', '00:36:00', '14:17:00', '13:27:00', '12:51:00',\n",
       "       '12:05:00', '11:18:00', '10:21:00', '08:52:00', '06:33:00',\n",
       "       '05:53:00', '03:51:00', '03:42:00', '02:55:00', '02:06:00',\n",
       "       '14:48:00', '11:53:00', '10:39:00', '09:24:00', '08:40:00',\n",
       "       '07:49:00', '05:22:00', '04:19:00', '01:35:00', '00:50:00',\n",
       "       '14:55:00', '14:18:00', '10:56:00', '09:07:00', '08:22:00',\n",
       "       '06:02:00', '04:34:00', '04:29:00', '03:02:00', '02:25:00',\n",
       "       '01:53:00', '01:05:00', '14:56:00', '14:20:00', '13:44:00',\n",
       "       '12:09:00', '10:10:00', '09:33:00', '08:06:00', '07:26:00',\n",
       "       '05:59:00', '03:36:00', '02:05:00', '01:21:00', '00:56:00',\n",
       "       '06:38:00', '04:53:00', '14:19:00', '13:47:00', '12:38:00',\n",
       "       '11:45:00', '03:28:00', '02:46:00', '01:34:00', '13:46:00',\n",
       "       '12:42:00', '11:50:00', '10:22:00', '09:50:00', '08:48:00',\n",
       "       '07:10:00', '05:46:00', '03:41:00', '03:15:00', '01:47:00',\n",
       "       '01:31:00', '01:24:00', '00:30:00', '00:12:00', '14:06:00',\n",
       "       '10:44:00', '10:02:00', '09:22:00', '07:44:00', '07:02:00',\n",
       "       '06:29:00', '05:47:00', '04:25:00', '02:57:00', '02:21:00',\n",
       "       '01:54:00', '00:18:00', '14:22:00', '13:15:00', '09:47:00',\n",
       "       '08:47:00', '04:33:00', '04:26:00', '04:07:00', '04:01:00',\n",
       "       '02:52:00', '02:09:00', '01:06:00', '00:25:00', '14:24:00',\n",
       "       '13:35:00', '12:44:00', '11:40:00', '02:22:00', '01:12:00',\n",
       "       '00:17:00', '13:54:00', '12:28:00', '11:13:00', '08:03:00',\n",
       "       '05:18:00', '04:50:00', '01:27:00', '00:41:00', '13:11:00',\n",
       "       '07:16:00', '06:32:00', '03:25:00', '00:33:00', '13:06:00',\n",
       "       '10:35:00', '07:20:00', '04:54:00', '02:28:00', '14:16:00',\n",
       "       '11:08:00', '08:57:00', '08:37:00', '06:12:00', '04:04:00',\n",
       "       '02:35:00', '00:46:00', '14:27:00', '12:33:00', '10:19:00',\n",
       "       '08:19:00', '05:50:00', '05:09:00', '03:54:00', '01:11:00',\n",
       "       '13:04:00', '11:26:00', '10:12:00', '09:23:00', '05:42:00',\n",
       "       '05:01:00', '04:03:00', '03:52:00', '02:26:00', '00:48:00',\n",
       "       '11:44:00', '11:03:00', '10:18:00', '05:07:00', '01:33:00',\n",
       "       '00:49:00', '14:26:00', '09:12:00', '07:28:00', '07:07:00',\n",
       "       '05:51:00', '04:32:00', '04:02:00', '02:42:00', '01:42:00',\n",
       "       '14:42:00', '12:58:00', '12:22:00', '11:24:00', '09:36:00',\n",
       "       '08:10:00', '06:53:00', '05:41:00', '04:57:00', '03:43:00',\n",
       "       '03:08:00', '02:14:00', '14:33:00', '13:36:00', '11:05:00',\n",
       "       '09:09:00', '08:24:00', '07:45:00', '06:40:00', '04:40:00',\n",
       "       '04:14:00', '03:13:00', '00:03:00', '13:31:00', '12:10:00',\n",
       "       '09:59:00', '09:16:00', '03:31:00', '03:21:00', '03:04:00',\n",
       "       '11:57:00', '10:40:00', '09:11:00', '08:31:00', '06:58:00',\n",
       "       '05:28:00', '03:59:00', '02:51:00', '01:25:00', '00:45:00',\n",
       "       '14:21:00', '13:00:00', '09:15:00', '07:03:00', '06:30:00',\n",
       "       '05:08:00', '12:16:00', '11:17:00', '10:24:00', '08:42:00',\n",
       "       '06:10:00', '03:50:00', '02:15:00', '00:42:00', '13:58:00',\n",
       "       '10:32:00', '06:44:00', '04:41:00', '03:17:00', '03:05:00',\n",
       "       '02:58:00', '14:50:00', '10:50:00', '06:21:00', '04:49:00',\n",
       "       '00:27:00', '13:18:00', '12:40:00', '11:00:00', '08:30:00',\n",
       "       '06:37:00', '09:03:00', '04:17:00', '00:52:00', '14:31:00',\n",
       "       '12:21:00', '10:17:00', '08:07:00', '03:33:00', '02:49:00',\n",
       "       '12:43:00', '11:04:00', '09:14:00', '07:46:00', '07:06:00',\n",
       "       '04:09:00', '02:03:00', '01:26:00', '10:29:00', '09:44:00',\n",
       "       '14:25:00', '12:54:00', '09:54:00', '09:28:00', '08:09:00',\n",
       "       '07:15:00', '05:30:00', '01:55:00', '00:10:00', '14:13:00',\n",
       "       '13:34:00', '12:17:00', '11:36:00', '09:29:00', '09:10:00',\n",
       "       '08:29:00', '06:59:00', '05:02:00', '04:22:00', '02:54:00',\n",
       "       '09:26:00', '07:53:00', '07:19:00', '05:10:00', '13:28:00',\n",
       "       '09:48:00', '08:49:00', '08:12:00', '07:12:00', '03:48:00',\n",
       "       '00:55:00', '00:43:00', '13:56:00', '11:27:00', '08:28:00',\n",
       "       '07:05:00', '05:11:00', '02:20:00', '14:36:00', '09:49:00',\n",
       "       '06:17:00', '03:19:00', '13:42:00', '07:47:00', '06:04:00',\n",
       "       '05:04:00', '03:00:00', '13:01:00', '12:14:00', '09:46:00',\n",
       "       '08:00:00', '06:27:00', '05:49:00', '12:23:00', '10:04:00',\n",
       "       '08:02:00', '06:45:00', '04:38:00', '03:53:00', '13:49:00',\n",
       "       '08:04:00', '07:17:00', '06:35:00', '04:59:00', '04:18:00',\n",
       "       '02:39:00', '11:07:00', '12:37:00', '11:28:00', '10:51:00',\n",
       "       '08:11:00', '07:35:00', '02:40:00', '12:02:00', '08:51:00',\n",
       "       '07:23:00', '03:07:00', '13:37:00', '12:36:00', '07:48:00',\n",
       "       '05:26:00', '04:45:00', '03:20:00', '02:27:00', '02:19:00',\n",
       "       '12:19:00', '10:48:00', '07:37:00', '05:44:00', '04:36:00',\n",
       "       '03:12:00', '01:01:00', '14:45:00', '10:37:00', '06:15:00',\n",
       "       '03:06:00', '01:43:00', '13:23:00', '07:34:00', '05:00:00',\n",
       "       '02:34:00', '13:40:00', '10:07:00', '06:25:00', '13:21:00',\n",
       "       '12:30:00', '09:39:00', '06:18:00', '02:41:00', '01:44:00',\n",
       "       '01:07:00', '00:24:00', '13:19:00', '11:43:00', '11:11:00',\n",
       "       '10:05:00', '07:25:00', '05:27:00', '02:50:00', '02:07:00',\n",
       "       '01:46:00', '01:16:00', '00:38:00', '07:33:00', '02:17:00',\n",
       "       '13:51:00', '11:58:00', '09:31:00', '08:01:00', '06:24:00',\n",
       "       '13:59:00', '09:42:00', '07:36:00', '07:01:00', '04:46:00',\n",
       "       '03:57:00', '02:23:00', '11:49:00', '10:20:00', '06:46:00',\n",
       "       '06:09:00', '05:16:00', '10:49:00', '07:21:00', '06:26:00',\n",
       "       '05:57:00', '01:40:00', '13:14:00', '07:11:00', '01:08:00',\n",
       "       '01:02:00', '11:30:00', '10:06:00', '09:32:00', '03:38:00',\n",
       "       '01:51:00', '00:28:00', '13:41:00', '11:56:00', '10:43:00',\n",
       "       '07:58:00', '05:45:00', '00:15:00', '04:16:00', '03:34:00',\n",
       "       '02:13:00', '11:41:00', '11:01:00', '09:41:00', '06:49:00',\n",
       "       '04:00:00', '12:45:00', '07:43:00', '09:51:00', '08:53:00',\n",
       "       '07:24:00', '03:32:00', '00:19:00', '00:06:00', '12:39:00',\n",
       "       '10:15:00', '09:45:00', '06:08:00', '02:45:00', '13:53:00',\n",
       "       '04:06:00', '03:22:00', '11:02:00', '10:26:00', '09:08:00',\n",
       "       '07:42:00', '07:32:00', '06:48:00', '05:12:00', '03:24:00',\n",
       "       '00:51:00', '11:38:00', '09:55:00', '09:18:00', '04:58:00',\n",
       "       '13:39:00', '12:07:00', '08:54:00', '04:08:00', '12:34:00',\n",
       "       '11:37:00', '05:34:00', '04:13:00', '08:39:00', '13:25:00',\n",
       "       '10:25:00', '09:02:00', '06:47:00', '03:09:00', '02:16:00',\n",
       "       '00:47:00', '12:47:00', '11:51:00', '11:19:00', '08:14:00',\n",
       "       '06:31:00', '05:55:00', '02:59:00', '01:19:00', '14:04:00',\n",
       "       '13:29:00', '10:55:00', '06:43:00', '03:37:00', '02:53:00',\n",
       "       '00:16:00', '06:28:00', '05:37:00', '05:05:00', '02:02:00',\n",
       "       '01:56:00', '12:11:00', '08:32:00', '04:28:00', '01:29:00',\n",
       "       '11:16:00', '10:11:00', '04:56:00', '01:30:00', '10:09:00',\n",
       "       '03:10:00', '14:28:00', '10:27:00', '08:33:00', '06:54:00',\n",
       "       '06:19:00', '13:50:00', '10:31:00', '06:07:00', '04:52:00',\n",
       "       '03:18:00', '14:01:00', '12:35:00', '10:03:00', '08:23:00',\n",
       "       '03:40:00', '03:29:00', '14:10:00', '12:13:00', '10:14:00',\n",
       "       '09:38:00', '08:45:00', '06:50:00', '04:55:00', '12:56:00',\n",
       "       '08:50:00', '07:50:00', '10:57:00', '09:53:00', '00:07:00',\n",
       "       '12:18:00', '08:55:00', '07:30:00', '05:24:00', '14:15:00',\n",
       "       '12:57:00', '08:58:00', '01:10:00', '10:38:00', '09:58:00',\n",
       "       '08:46:00', '04:51:00', '01:23:00', '14:11:00', '13:03:00',\n",
       "       '09:06:00', '09:27:00', '10:45:00', '08:35:00', '06:36:00',\n",
       "       '10:52:00', '08:27:00', '07:29:00', '05:58:00', '13:10:00',\n",
       "       '10:36:00', '08:13:00', '07:13:00', '00:26:00', '13:33:00',\n",
       "       '11:46:00', '02:18:00', '13:38:00', '07:27:00', '01:39:00',\n",
       "       '12:55:00', '10:01:00', '05:32:00', '05:14:00', '01:50:00',\n",
       "       '01:09:00', '14:57:00', '12:26:00', '11:48:00', '03:39:00',\n",
       "       '12:59:00', '12:27:00', '04:10:00', '14:34:00', '10:08:00',\n",
       "       '06:23:00', '02:24:00', '02:30:00', '07:56:00', '11:33:00',\n",
       "       '07:00:00', '03:46:00', '00:53:00', '05:43:00', '01:49:00',\n",
       "       '14:47:00', '14:39:00', '14:08:00', '06:22:00', '14:38:00',\n",
       "       '13:16:00', '12:24:00', '03:30:00', '01:37:00', '13:07:00',\n",
       "       '11:15:00', '03:16:00', '14:49:00', '11:22:00', '10:46:00',\n",
       "       '04:39:00', '13:45:00', '12:31:00', '04:47:00', '11:14:00',\n",
       "       '01:32:00', '07:14:00', '01:59:00', '12:52:00', '11:25:00',\n",
       "       '08:18:00', '13:26:00', '09:35:00', '08:43:00', '05:36:00',\n",
       "       '04:24:00', '04:23:00', '14:41:00', '12:50:00', '01:17:00',\n",
       "       '00:32:00', '14:43:00', '08:08:00', '03:11:00', '01:28:00',\n",
       "       '01:58:00', '12:53:00', '05:40:00', '13:32:00', '12:03:00',\n",
       "       '08:25:00', '03:27:00', '11:10:00', '08:59:00', '08:26:00',\n",
       "       '11:34:00', '10:30:00', '05:33:00', '05:52:00', '04:11:00',\n",
       "       '00:21:00', '10:59:00', '07:59:00', '14:35:00', '03:23:00',\n",
       "       '00:29:00', '11:20:00', '08:56:00', '07:38:00', '06:56:00',\n",
       "       '13:13:00', '12:41:00', '12:06:00', '05:15:00', '02:12:00',\n",
       "       '01:03:00', '04:43:00', '02:11:00', '01:20:00', '14:23:00',\n",
       "       '11:54:00', '05:38:00', '14:53:00', '00:58:00', '11:12:00',\n",
       "       '10:13:00', '07:41:00', '14:51:00', '11:42:00', '06:57:00',\n",
       "       '03:26:00', '08:34:00', '07:04:00', '03:45:00', '01:41:00',\n",
       "       '00:54:00', '05:31:00', '14:32:00', '14:00:00', '04:37:00',\n",
       "       '05:21:00', '13:05:00', '12:25:00', '06:55:00', '01:15:00',\n",
       "       '10:58:00', '03:49:00', '04:20:00', '10:16:00', '07:18:00',\n",
       "       '12:20:00', '01:18:00', '03:35:00', '00:40:00', '09:52:00',\n",
       "       '14:37:00', '04:27:00', '14:07:00', '02:56:00', '13:08:00',\n",
       "       '09:56:00', '13:24:00', '10:47:00', '08:44:00', '07:52:00',\n",
       "       '07:09:00', '00:08:00', '05:23:00', '12:04:00', '05:25:00',\n",
       "       '13:55:00', '05:20:00', '13:57:00', '06:00:00', '13:09:00',\n",
       "       '11:32:00', '09:43:00', '08:36:00', '13:48:00', '11:39:00',\n",
       "       '13:43:00', '11:09:00', '14:12:00', '02:01:00', '00:59:00',\n",
       "       '01:22:00', '03:14:00', '14:03:00', '11:52:00', '05:39:00',\n",
       "       '04:48:00', '01:13:00', '06:06:00', '06:01:00', '02:48:00',\n",
       "       '05:13:00', '02:43:00', '12:32:00', '01:04:00', '00:09:00',\n",
       "       '09:04:00', '06:51:00', '11:06:00', '04:35:00', '08:41:00',\n",
       "       '03:56:00', '03:58:00', '07:57:00', '08:21:00', '14:05:00',\n",
       "       '00:31:00', '00:22:00', '07:40:00', '01:14:00', '10:42:00',\n",
       "       '11:29:00', '11:47:00', '09:20:00', '11:59:00', '07:51:00',\n",
       "       '13:12:00', '04:31:00', '02:36:00', '09:19:00', '00:34:00',\n",
       "       '14:29:00', '01:38:00', '08:16:00', '00:13:00', '13:20:00',\n",
       "       '06:05:00', '06:14:00', '09:01:00', '14:09:00', '12:01:00',\n",
       "       '13:30:00', '03:01:00', '00:35:00', '06:39:00', '07:54:00',\n",
       "       '00:01:00', '04:12:00', '02:47:00', '09:30:00', '04:30:00',\n",
       "       '11:31:00', '02:08:00', '14:02:00', '12:46:00', '05:17:00',\n",
       "       '01:52:00', '00:02:00', '01:45:00', '00:14:00', '14:46:00',\n",
       "       '14:59:00', '00:44:00', '06:20:00', '09:21:00', '08:17:00',\n",
       "       '06:41:00', '05:06:00', '02:33:00', '04:42:00', '09:37:00',\n",
       "       '05:54:00', '07:39:00', '10:54:00', '06:42:00', '05:56:00',\n",
       "       '02:04:00', '00:39:00', '00:11:00', '09:00:00', '11:55:00',\n",
       "       '06:03:00', '00:00:00', '01:00:00', '00:05:00', '14:40:00',\n",
       "       '14:58:00'], dtype=object)"
      ]
     },
     "execution_count": 35,
     "metadata": {},
     "output_type": "execute_result"
    }
   ],
   "source": [
    "train_cat.GameClock.unique()"
   ]
  },
  {
   "cell_type": "code",
   "execution_count": 36,
   "id": "ebdc9fb9",
   "metadata": {},
   "outputs": [],
   "source": [
    "# transform game clock time in minutes\n",
    "def proc_gameclock(x):\n",
    "    min,sec,msec = x.split(':')\n",
    "    return int(min) + int(sec)/60 + int(msec)/3600"
   ]
  },
  {
   "cell_type": "markdown",
   "id": "e6449958",
   "metadata": {},
   "source": [
    "## PossessionTeam"
   ]
  },
  {
   "cell_type": "code",
   "execution_count": 37,
   "id": "52bd1384",
   "metadata": {},
   "outputs": [
    {
     "data": {
      "text/plain": [
       "array(['NE', 'KC', 'BUF', 'NYJ', 'ATL', 'CHI', 'CIN', 'BLT', 'CLV', 'PIT',\n",
       "       'ARZ', 'DET', 'JAX', 'HST', 'OAK', 'TEN', 'WAS', 'PHI', 'LA',\n",
       "       'IND', 'SEA', 'GB', 'CAR', 'SF', 'DAL', 'NYG', 'NO', 'MIN', 'DEN',\n",
       "       'LAC', 'TB', 'MIA'], dtype=object)"
      ]
     },
     "execution_count": 37,
     "metadata": {},
     "output_type": "execute_result"
    }
   ],
   "source": [
    "train_cat.PossessionTeam.unique()"
   ]
  },
  {
   "cell_type": "code",
   "execution_count": 38,
   "id": "52881c19",
   "metadata": {},
   "outputs": [
    {
     "data": {
      "text/html": [
       "<div>\n",
       "<style scoped>\n",
       "    .dataframe tbody tr th:only-of-type {\n",
       "        vertical-align: middle;\n",
       "    }\n",
       "\n",
       "    .dataframe tbody tr th {\n",
       "        vertical-align: top;\n",
       "    }\n",
       "\n",
       "    .dataframe thead th {\n",
       "        text-align: right;\n",
       "    }\n",
       "</style>\n",
       "<table border=\"1\" class=\"dataframe\">\n",
       "  <thead>\n",
       "    <tr style=\"text-align: right;\">\n",
       "      <th></th>\n",
       "      <th>PossessionTeam</th>\n",
       "      <th>HomeTeamAbbr</th>\n",
       "      <th>VisitorTeamAbbr</th>\n",
       "    </tr>\n",
       "  </thead>\n",
       "  <tbody>\n",
       "    <tr>\n",
       "      <th>2992</th>\n",
       "      <td>BLT</td>\n",
       "      <td>CIN</td>\n",
       "      <td>BAL</td>\n",
       "    </tr>\n",
       "    <tr>\n",
       "      <th>2993</th>\n",
       "      <td>BLT</td>\n",
       "      <td>CIN</td>\n",
       "      <td>BAL</td>\n",
       "    </tr>\n",
       "    <tr>\n",
       "      <th>2994</th>\n",
       "      <td>BLT</td>\n",
       "      <td>CIN</td>\n",
       "      <td>BAL</td>\n",
       "    </tr>\n",
       "    <tr>\n",
       "      <th>2995</th>\n",
       "      <td>BLT</td>\n",
       "      <td>CIN</td>\n",
       "      <td>BAL</td>\n",
       "    </tr>\n",
       "    <tr>\n",
       "      <th>2996</th>\n",
       "      <td>BLT</td>\n",
       "      <td>CIN</td>\n",
       "      <td>BAL</td>\n",
       "    </tr>\n",
       "    <tr>\n",
       "      <th>...</th>\n",
       "      <td>...</td>\n",
       "      <td>...</td>\n",
       "      <td>...</td>\n",
       "    </tr>\n",
       "    <tr>\n",
       "      <th>682149</th>\n",
       "      <td>BLT</td>\n",
       "      <td>LA</td>\n",
       "      <td>BAL</td>\n",
       "    </tr>\n",
       "    <tr>\n",
       "      <th>682150</th>\n",
       "      <td>BLT</td>\n",
       "      <td>LA</td>\n",
       "      <td>BAL</td>\n",
       "    </tr>\n",
       "    <tr>\n",
       "      <th>682151</th>\n",
       "      <td>BLT</td>\n",
       "      <td>LA</td>\n",
       "      <td>BAL</td>\n",
       "    </tr>\n",
       "    <tr>\n",
       "      <th>682152</th>\n",
       "      <td>BLT</td>\n",
       "      <td>LA</td>\n",
       "      <td>BAL</td>\n",
       "    </tr>\n",
       "    <tr>\n",
       "      <th>682153</th>\n",
       "      <td>BLT</td>\n",
       "      <td>LA</td>\n",
       "      <td>BAL</td>\n",
       "    </tr>\n",
       "  </tbody>\n",
       "</table>\n",
       "<p>85052 rows × 3 columns</p>\n",
       "</div>"
      ],
      "text/plain": [
       "       PossessionTeam HomeTeamAbbr VisitorTeamAbbr\n",
       "2992              BLT          CIN             BAL\n",
       "2993              BLT          CIN             BAL\n",
       "2994              BLT          CIN             BAL\n",
       "2995              BLT          CIN             BAL\n",
       "2996              BLT          CIN             BAL\n",
       "...               ...          ...             ...\n",
       "682149            BLT           LA             BAL\n",
       "682150            BLT           LA             BAL\n",
       "682151            BLT           LA             BAL\n",
       "682152            BLT           LA             BAL\n",
       "682153            BLT           LA             BAL\n",
       "\n",
       "[85052 rows x 3 columns]"
      ]
     },
     "execution_count": 38,
     "metadata": {},
     "output_type": "execute_result"
    }
   ],
   "source": [
    "train_cat[\n",
    "    (train_cat.PossessionTeam != train_cat.HomeTeamAbbr) & \n",
    "    (train_cat.PossessionTeam != train_cat.VisitorTeamAbbr)][['PossessionTeam','HomeTeamAbbr','VisitorTeamAbbr']]"
   ]
  },
  {
   "cell_type": "markdown",
   "id": "4ceac28c",
   "metadata": {},
   "source": [
    "## FieldPosition"
   ]
  },
  {
   "cell_type": "code",
   "execution_count": 39,
   "id": "33a83b0d",
   "metadata": {},
   "outputs": [
    {
     "data": {
      "text/plain": [
       "array(['NE', 'KC', nan, 'BUF', 'NYJ', 'ATL', 'CHI', 'CIN', 'BLT', 'CLV',\n",
       "       'PIT', 'ARZ', 'DET', 'JAX', 'HST', 'TEN', 'OAK', 'WAS', 'PHI',\n",
       "       'LA', 'IND', 'GB', 'SEA', 'CAR', 'SF', 'DAL', 'NYG', 'NO', 'MIN',\n",
       "       'DEN', 'LAC', 'TB', 'MIA'], dtype=object)"
      ]
     },
     "execution_count": 39,
     "metadata": {},
     "output_type": "execute_result"
    }
   ],
   "source": [
    "train_cat.FieldPosition.unique()"
   ]
  },
  {
   "cell_type": "code",
   "execution_count": 40,
   "id": "0afc9ba5",
   "metadata": {},
   "outputs": [],
   "source": [
    "def possession_in_fieldPosition(df):\n",
    "    df['PossessionInFieldPosition'] = df.FieldPosition == df.PossessionTeam\n",
    "    df['PossessionInFieldPosition'] = df['PossessionInFieldPosition'].apply(lambda x : 1 if x else 0)\n",
    "    return df.drop(columns = ['FieldPosition','PossessionTeam'])"
   ]
  },
  {
   "cell_type": "markdown",
   "id": "9d2e688c",
   "metadata": {},
   "source": [
    "## OffenseFormation"
   ]
  },
  {
   "cell_type": "code",
   "execution_count": 41,
   "id": "05970b07",
   "metadata": {},
   "outputs": [
    {
     "data": {
      "text/plain": [
       "array(['SHOTGUN', 'SINGLEBACK', 'JUMBO', 'PISTOL', 'I_FORM', 'ACE',\n",
       "       'WILDCAT', nan, 'EMPTY'], dtype=object)"
      ]
     },
     "execution_count": 41,
     "metadata": {},
     "output_type": "execute_result"
    }
   ],
   "source": [
    "train_cat.OffenseFormation.unique()"
   ]
  },
  {
   "cell_type": "code",
   "execution_count": 42,
   "id": "20e9fc07",
   "metadata": {},
   "outputs": [],
   "source": [
    "# One Hot Encoding of the offense formation values\n",
    "def oneHotEncoding_offense_formation(df):\n",
    "    offense_formation_dummies = pd.get_dummies(df.OffenseFormation, columns=df.OffenseFormation.unique())\n",
    "    return pd.concat([df.drop('OffenseFormation', axis=1),offense_formation_dummies], axis=1)"
   ]
  },
  {
   "cell_type": "markdown",
   "id": "5f86cdd2",
   "metadata": {},
   "source": [
    "## OffensePersonnel"
   ]
  },
  {
   "cell_type": "code",
   "execution_count": 43,
   "id": "d1c6b10b",
   "metadata": {},
   "outputs": [],
   "source": [
    "# feature is droped because it is already contained in Position feature"
   ]
  },
  {
   "cell_type": "markdown",
   "id": "b0d12509",
   "metadata": {},
   "source": [
    "## DefensePersonnel"
   ]
  },
  {
   "cell_type": "code",
   "execution_count": 44,
   "id": "d3bd06ec",
   "metadata": {},
   "outputs": [],
   "source": [
    "# feature is droped because it is already contained in Position feature"
   ]
  },
  {
   "cell_type": "markdown",
   "id": "2332e5d2",
   "metadata": {},
   "source": [
    "## Position"
   ]
  },
  {
   "cell_type": "code",
   "execution_count": 45,
   "id": "75c283a7",
   "metadata": {
    "scrolled": true
   },
   "outputs": [
    {
     "data": {
      "text/plain": [
       "array(['SS', 'DE', 'ILB', 'FS', 'CB', 'DT', 'WR', 'TE', 'T', 'QB', 'RB',\n",
       "       'G', 'C', 'OLB', 'NT', 'FB', 'MLB', 'LB', 'OT', 'S', 'OG', 'HB',\n",
       "       'DB', 'DL', 'SAF'], dtype=object)"
      ]
     },
     "execution_count": 45,
     "metadata": {},
     "output_type": "execute_result"
    }
   ],
   "source": [
    "train_cat.Position.unique()"
   ]
  },
  {
   "cell_type": "code",
   "execution_count": 46,
   "id": "8c93fb24",
   "metadata": {},
   "outputs": [],
   "source": [
    "# One Hot Encoding of the positions\n",
    "def oneHotEncoding_position(df):\n",
    "    position_dummies = pd.get_dummies(df.Position, columns=df.Position.unique())\n",
    "    return pd.concat([df.drop('Position', axis=1),position_dummies], axis=1)"
   ]
  },
  {
   "cell_type": "markdown",
   "id": "dd3d65a8",
   "metadata": {},
   "source": [
    "## PlayDirection"
   ]
  },
  {
   "cell_type": "code",
   "execution_count": 47,
   "id": "7c7eead5",
   "metadata": {},
   "outputs": [
    {
     "data": {
      "text/plain": [
       "array(['left', 'right'], dtype=object)"
      ]
     },
     "execution_count": 47,
     "metadata": {},
     "output_type": "execute_result"
    }
   ],
   "source": [
    "train_cat.PlayDirection.unique()"
   ]
  },
  {
   "cell_type": "code",
   "execution_count": 48,
   "id": "3443ac49",
   "metadata": {},
   "outputs": [],
   "source": [
    "def proc_play_direction(x):\n",
    "    return 1 if x == 'left' else 0"
   ]
  },
  {
   "cell_type": "markdown",
   "id": "9e306074",
   "metadata": {},
   "source": [
    "## TimeHandoff / TimeSnap / PlayerBithDate"
   ]
  },
  {
   "cell_type": "code",
   "execution_count": 49,
   "id": "b5a8ab82",
   "metadata": {},
   "outputs": [
    {
     "data": {
      "text/plain": [
       "array(['2017-09-08T00:44:06.000Z', '2017-09-08T00:44:27.000Z',\n",
       "       '2017-09-08T00:45:17.000Z', ..., '2019-11-26T03:46:54.000Z',\n",
       "       '2019-11-26T03:58:22.000Z', '2019-11-26T03:59:06.000Z'],\n",
       "      dtype=object)"
      ]
     },
     "execution_count": 49,
     "metadata": {},
     "output_type": "execute_result"
    }
   ],
   "source": [
    "train_cat.TimeHandoff.unique()"
   ]
  },
  {
   "cell_type": "code",
   "execution_count": 50,
   "id": "51b41672",
   "metadata": {},
   "outputs": [
    {
     "data": {
      "text/plain": [
       "array(['2017-09-08T00:44:05.000Z', '2017-09-08T00:44:26.000Z',\n",
       "       '2017-09-08T00:45:15.000Z', ..., '2019-11-26T03:46:53.000Z',\n",
       "       '2019-11-26T03:58:21.000Z', '2019-11-26T03:59:05.000Z'],\n",
       "      dtype=object)"
      ]
     },
     "execution_count": 50,
     "metadata": {},
     "output_type": "execute_result"
    }
   ],
   "source": [
    "train_cat.TimeSnap.unique()"
   ]
  },
  {
   "cell_type": "code",
   "execution_count": 51,
   "id": "56d58ed9",
   "metadata": {},
   "outputs": [
    {
     "data": {
      "text/plain": [
       "array(['12/29/1988', '03/25/1989', '01/21/1989', ..., '11/12/1995',\n",
       "       '07/01/1996', '08/28/1995'], dtype=object)"
      ]
     },
     "execution_count": 51,
     "metadata": {},
     "output_type": "execute_result"
    }
   ],
   "source": [
    "train_cat.PlayerBirthDate.unique()"
   ]
  },
  {
   "cell_type": "code",
   "execution_count": 52,
   "id": "167761e7",
   "metadata": {},
   "outputs": [],
   "source": [
    "def proc_time_handoff_snap_and_player_age(df):\n",
    "    seconds_in_year = 3600*24*365.25\n",
    "    df['TimeDeltaHandoff'] = (df.TimeHandoff.apply(lambda x : datetime.strptime(x,'%Y-%m-%dT%H:%M:%S.%fZ'))\n",
    "                          - df.TimeSnap.apply(lambda x : datetime.strptime(x,'%Y-%m-%dT%H:%M:%S.%fZ')))\n",
    "    df['TimeDeltaHandoff'] = df['TimeDeltaHandoff'].apply(lambda x : x.total_seconds()/seconds_in_year)\n",
    "    df['PlayerAge'] = (df.TimeHandoff.apply(lambda x : datetime.strptime(x,'%Y-%m-%dT%H:%M:%S.%fZ'))\n",
    "                          - df.PlayerBirthDate.apply(lambda x : datetime.strptime(x,'%m/%d/%Y')))\n",
    "    df['PlayerAge'] = df['PlayerAge'].apply(lambda x : x.total_seconds()/seconds_in_year)\n",
    "    return df.drop(columns=['TimeHandoff','TimeSnap','PlayerBirthDate'])"
   ]
  },
  {
   "cell_type": "markdown",
   "id": "8f9a5009",
   "metadata": {},
   "source": [
    "## PlayerHeight"
   ]
  },
  {
   "cell_type": "code",
   "execution_count": 53,
   "id": "1c595e90",
   "metadata": {},
   "outputs": [
    {
     "data": {
      "text/plain": [
       "array(['6-0', '6-3', '6-2', '5-11', '6-6', '6-9', '6-4', '6-1', '5-10',\n",
       "       '6-5', '6-7', '5-9', '5-8', '5-7', '6-8', '5-6'], dtype=object)"
      ]
     },
     "execution_count": 53,
     "metadata": {},
     "output_type": "execute_result"
    }
   ],
   "source": [
    "train_cat.PlayerHeight.unique()"
   ]
  },
  {
   "cell_type": "code",
   "execution_count": 54,
   "id": "b57c6b25",
   "metadata": {},
   "outputs": [],
   "source": [
    "def proc_player_height(x):\n",
    "    return float(f\"{x.split('-')[0]}.{x.split('-')[1]}\") * 30.48"
   ]
  },
  {
   "cell_type": "markdown",
   "id": "6b35f819",
   "metadata": {},
   "source": [
    "## PlayerCollegeName"
   ]
  },
  {
   "cell_type": "code",
   "execution_count": 55,
   "id": "ddd4f24a",
   "metadata": {
    "scrolled": false
   },
   "outputs": [
    {
     "data": {
      "text/plain": [
       "array(['Tennessee', 'Miami', 'Georgia', 'Texas', 'Newberry', 'Auburn',\n",
       "       'Oregon', 'Rice', 'Brigham Young', 'Washington',\n",
       "       'Mississippi State', 'Texas Tech', 'Arizona', 'Texas Christian',\n",
       "       'Colorado', 'Michigan', 'Monmouth, N.J.', 'Oregon State',\n",
       "       'Wisconsin', 'Georgia Tech', 'North Carolina State',\n",
       "       'Central Michigan', 'LSU', 'Southern Mississippi', 'Brown',\n",
       "       'Clemson', 'Florida', 'Utah', 'California', 'Cincinnati',\n",
       "       'Wisconsin-Milwaukee', 'McGill', 'South Dakota State', 'Missouri',\n",
       "       'Penn State', 'Toledo', 'Rutgers', 'Alabama', 'South Carolina',\n",
       "       'West Alabama', 'Arkansas', 'Stanford', 'Nebraska', 'Connecticut',\n",
       "       'Georgia State', 'Arizona State', 'Houston', 'Pittsburgh', 'UCLA',\n",
       "       'Minnesota', 'Vanderbilt', 'Abilene Christian', 'Chattanooga',\n",
       "       'Temple', 'Troy', 'Arkansas State', 'Louisiana State',\n",
       "       'Florida State', 'Southern California', 'Ohio State', 'Louisville',\n",
       "       'Tulsa', 'Virginia Tech', 'Louisiana Tech', 'East Carolina',\n",
       "       'Columbia', 'USC', 'Hillsdale', 'Coastal Carolina',\n",
       "       'Colorado State-Pueblo', 'Wagner', 'West Georgia',\n",
       "       'Sam Houston State', 'Southern Methodist', 'Kent State',\n",
       "       'Stony Brook', 'Southern Arkansas', 'North Dakota State',\n",
       "       'Iowa State', 'Iowa', 'Wyoming', 'Tulane', 'Bethune-Cookman',\n",
       "       'North Carolina', 'Boston College', 'Valdosta State', 'Texas A&M',\n",
       "       'San Jose State', 'Texas-El Paso', 'Mary Hardin-Baylor',\n",
       "       'Kentucky', 'Regina, Can.', 'Indiana', 'Drake', 'Memphis',\n",
       "       'Southeastern Louisiana', 'Purdue', 'Central Florida',\n",
       "       'Nebraska-Omaha', 'South Dakota', 'Mississippi', 'Michigan State',\n",
       "       'Boise State', 'West Virginia', 'Kansas State', 'Baylor',\n",
       "       'North Carolina A&T', 'Ashland', 'San Diego State', 'Citadel',\n",
       "       'Grand Valley State', 'Nicholls State', 'Oklahoma',\n",
       "       'Missouri Southern', 'Virginia', 'Notre Dame', 'Delaware',\n",
       "       'Northern Iowa', 'Towson', 'Duke', 'Illinois', 'Utah State',\n",
       "       'Maine', 'Chadron State', 'Portland State', 'Samford',\n",
       "       'Wake Forest', 'Tennessee State', 'Ohio U.',\n",
       "       'South Carolina State', 'Maryland', 'Cornell', 'Nevada',\n",
       "       'Alabama State', 'Princeton', 'James Madison', 'Miami (Ohio)',\n",
       "       'Army', 'Oklahoma State', 'Florida Atlantic', 'Georgia Southern',\n",
       "       'Montana', 'North Carolina-Charlotte', 'Idaho', 'Pittsburg State',\n",
       "       'New Mexico', 'Presbyterian', 'Syracuse', 'Eastern Michigan',\n",
       "       'California-Irvine', 'Howard', 'Northern Illinois',\n",
       "       'Nevada-Las Vegas', 'Southern Utah', 'Alabama-Birmingham',\n",
       "       'Delaware State', 'Miami (Fla.)', 'Appalachian State',\n",
       "       'Tiffin University', 'Kentucky Wesleyan', 'Missouri State',\n",
       "       'Northwestern (Ia)', 'Fresno State', 'Florida International',\n",
       "       'Middle Tennessee', 'Buffalo', 'Ohio', 'Colorado State',\n",
       "       'Ouachita Baptist', 'Central Missouri State', 'Marshall',\n",
       "       'Middle Tennessee State', 'Western Michigan', 'Western Kentucky',\n",
       "       'Greenville', 'Miami, O.', 'Stillman', 'South Florida',\n",
       "       'New Hampshire', 'Washington State', 'Texas State',\n",
       "       'South Alabama', 'Louisiana Coll.', 'Mars Hill', 'West Texas A&M',\n",
       "       'Northwest Missouri State', 'Eastern Washington', 'Beloit',\n",
       "       'New Mexico State', 'Bloomsburg', 'Missouri Western State',\n",
       "       'Northwestern', 'Mount Union', 'Slippery Rock', 'Harvard',\n",
       "       'Canisius', 'North Alabama', 'William Penn',\n",
       "       'Saginaw Valley State', 'Bowling Green State', 'Richmond',\n",
       "       'Texas-San Antonio', 'Idaho State', 'Shippensburg',\n",
       "       'Michigan Tech', 'Minn. State-Mankato', 'Manitoba, Can.',\n",
       "       'Augustana, S.D.', 'North Texas', 'Akron', 'Western Oregon',\n",
       "       'Kansas', 'Illinois State', 'Sacramento State',\n",
       "       'Missouri Southern State', 'Bucknell', 'Midwestern State',\n",
       "       'Albany State, Ga.', 'Grambling', 'Azusa Pacific', 'Hobart',\n",
       "       'Hampton', 'Eastern Kentucky', 'William & Mary',\n",
       "       'Southern Illinois', 'Henderson State', 'Winston-Salem State',\n",
       "       'Furman', 'Louisiana-Lafayette', 'Villanova', 'Washburn',\n",
       "       'Northwestern State-Louisiana', 'Air Force', 'Regina (Canada)',\n",
       "       'St. Francis (PA)', 'Lindenwood', 'North Carolina Central',\n",
       "       'Belhaven', 'Marist', 'Western State, Colo.', 'California, Pa.',\n",
       "       'Marian (Ind.)', 'Laval (Canada)', 'Massachusetts',\n",
       "       'Youngstown State', 'Arkansas-Pine Bluff', 'Ball State',\n",
       "       'Grambling State', 'Bowie State', 'Montana State',\n",
       "       'Jacksonville State', 'Alabama A&M', 'Eastern Oregon', 'Wofford',\n",
       "       'Eastern Illinois', 'Lamar', 'San Diego', 'North Greenville',\n",
       "       'California (PA)', 'Pennsylvania', 'Holy Cross', 'Old Dominion',\n",
       "       'Liberty', 'Shepherd', 'Ferris State', 'Cal Poly',\n",
       "       'Stetson University', 'Northeast Mississippi CC',\n",
       "       'Monmouth (N.J.)', 'Jacksonville', 'Hawaii', 'East Central',\n",
       "       'Yale', 'Weber State', 'Incarnate Word (Tex.)', 'Limestone',\n",
       "       'Tennessee-Chattanooga', 'Assumption', 'Concordia-St. Paul',\n",
       "       'Fordham', 'Fort Hays State', 'Virginia State',\n",
       "       'Stephen F. Austin St.', 'Western Carolina', 'Concordia, Minn',\n",
       "       'Navy', 'No College', 'Virginia Commonwealth', 'Central Arkansas',\n",
       "       'Alcorn State', 'Albany, N.Y.', 'Prairie View',\n",
       "       'Wisconsin-Platteville', 'Indiana State', 'Southern University',\n",
       "       'Western Illinois', 'Southeast Missouri', 'Frostburg State',\n",
       "       'Humboldt State', 'Wisconsin-Whitewater', 'Arkansas-Monticello',\n",
       "       'Southern Connecticut State', 'Texas Southern', 'Murray State',\n",
       "       'Bemidji State', 'California-Davis', 'McNeese State',\n",
       "       'Charleston, W. Va.', 'Tarleton State', 'Bryant University',\n",
       "       'Malone', 'Sioux Falls', 'Morgan State', 'Findlay'], dtype=object)"
      ]
     },
     "execution_count": 55,
     "metadata": {},
     "output_type": "execute_result"
    }
   ],
   "source": [
    "train_cat.PlayerCollegeName.unique()"
   ]
  },
  {
   "cell_type": "markdown",
   "id": "2bb0d8d9",
   "metadata": {},
   "source": [
    "## HomeTeamAbbr"
   ]
  },
  {
   "cell_type": "code",
   "execution_count": 56,
   "id": "cf184cb2",
   "metadata": {},
   "outputs": [
    {
     "data": {
      "text/plain": [
       "array(['NE', 'BUF', 'CHI', 'CIN', 'CLE', 'DET', 'HOU', 'TEN', 'WAS', 'LA',\n",
       "       'GB', 'SF', 'DAL', 'MIN', 'DEN', 'BAL', 'CAR', 'IND', 'JAX', 'KC',\n",
       "       'NO', 'PIT', 'TB', 'LAC', 'OAK', 'SEA', 'ATL', 'NYG', 'NYJ', 'PHI',\n",
       "       'ARI', 'MIA'], dtype=object)"
      ]
     },
     "execution_count": 56,
     "metadata": {},
     "output_type": "execute_result"
    }
   ],
   "source": [
    "train_cat.HomeTeamAbbr.unique()"
   ]
  },
  {
   "cell_type": "markdown",
   "id": "40ade47e",
   "metadata": {},
   "source": [
    "## Stadium"
   ]
  },
  {
   "cell_type": "code",
   "execution_count": 57,
   "id": "045ffe09",
   "metadata": {},
   "outputs": [
    {
     "data": {
      "text/plain": [
       "array(['Gillette Stadium', 'New Era Field', 'Soldier Field',\n",
       "       'Paul Brown Stadium', 'FirstEnergy', 'Ford Field', 'NRG Stadium',\n",
       "       'Nissan Stadium', 'FedExField', 'Los Angeles Memorial Coliseum',\n",
       "       'Lambeau Field', 'Levis Stadium', 'AT&T Stadium',\n",
       "       'U.S. Bank Stadium', 'Sports Authority Field at Mile High',\n",
       "       'M&T Bank Stadium', 'Bank of America Stadium', 'Lucas Oil Stadium',\n",
       "       'Everbank Field', 'Arrowhead Stadium', 'Mercedes-Benz Superdome',\n",
       "       'Heinz Field', 'Raymond James Stadium', 'StubHub Center',\n",
       "       'Oakland-Alameda County Coliseum', 'CenturyLink Field',\n",
       "       'Mercedes-Benz Dome', 'MetLife Stadium', 'Wembley Stadium',\n",
       "       'Lincoln Financial Field', 'University of Phoenix Stadium',\n",
       "       'Mercedes-Benz Stadium', 'M&T Stadium', 'First Energy Stadium',\n",
       "       'NRG', 'MetLife', 'CenturyLink', 'FirstEnergy Stadium',\n",
       "       'Hard Rock Stadium', 'EverBank Field', 'Twickenham',\n",
       "       'Twickenham Stadium', 'Estadio Azteca', 'M & T Bank Stadium',\n",
       "       'Oakland Alameda-County Coliseum', 'State Farm Stadium',\n",
       "       'Broncos Stadium At Mile High', 'Los Angeles Memorial Coliesum',\n",
       "       'Broncos Stadium at Mile High', 'TIAA Bank Field', 'CenturyField',\n",
       "       'FirstEnergyStadium', 'Paul Brown Stdium', 'Lambeau field',\n",
       "       'Metlife Stadium', 'Dignity Health Sports Park',\n",
       "       'Empower Field at Mile High', 'FedexField',\n",
       "       'Tottenham Hotspur Stadium', 'Tottenham Hotspur', 'Azteca Stadium'],\n",
       "      dtype=object)"
      ]
     },
     "execution_count": 57,
     "metadata": {},
     "output_type": "execute_result"
    }
   ],
   "source": [
    "train_cat.Stadium.unique()"
   ]
  },
  {
   "cell_type": "markdown",
   "id": "645123a7",
   "metadata": {},
   "source": [
    "## Location"
   ]
  },
  {
   "cell_type": "code",
   "execution_count": 58,
   "id": "819e5d78",
   "metadata": {},
   "outputs": [
    {
     "data": {
      "text/plain": [
       "array(['Foxborough, MA', 'Orchard Park NY', 'Chicago. IL',\n",
       "       'Cincinnati, Ohio', 'Cleveland, Ohio', 'Detroit, MI',\n",
       "       'Houston, Texas', 'Nashville, TN', 'Landover, MD',\n",
       "       'Los Angeles, Calif.', 'Green Bay, WI', 'Santa Clara, CA',\n",
       "       'Arlington, Texas', 'Minneapolis, MN', 'Denver, CO',\n",
       "       'Baltimore, Md.', 'Charlotte, North Carolina',\n",
       "       'Indianapolis, Ind.', 'Jacksonville, FL', 'Kansas City, MO',\n",
       "       'New Orleans, LA', 'Pittsburgh', 'Tampa, FL', 'Carson, CA',\n",
       "       'Oakland, CA', 'Seattle, WA', 'Atlanta, GA', 'East Rutherford, NJ',\n",
       "       'London, England', 'Chicago, IL', 'Detroit', 'Philadelphia, Pa.',\n",
       "       'Glendale, AZ', 'Cleveland, OH', 'Foxborough, Ma',\n",
       "       'E. Rutherford, NJ', 'Miami Gardens, Fla.', 'Houston, TX',\n",
       "       'London', 'New Orleans, La.', 'Mexico City', 'Baltimore, Maryland',\n",
       "       'Arlington, TX', 'Jacksonville, Fl', 'Jacksonville, Florida',\n",
       "       'Pittsburgh, PA', 'Charlotte, NC', 'Cleveland,Ohio',\n",
       "       'East Rutherford, N.J.', 'Philadelphia, PA', 'Seattle',\n",
       "       'Cleveland Ohio', 'Miami Gardens, FLA', 'Orchard Park, NY',\n",
       "       'Cleveland', 'Cincinnati, OH', 'Kansas City,  MO',\n",
       "       'Jacksonville Florida', 'Los Angeles, CA', 'New Orleans',\n",
       "       'Chicago', 'Charlotte North Carolina', 'Miami Gardens, FL',\n",
       "       'Denver CO', 'Santa Clara, CSA', 'Baltimore, MD',\n",
       "       'Mexico City, Mexico'], dtype=object)"
      ]
     },
     "execution_count": 58,
     "metadata": {},
     "output_type": "execute_result"
    }
   ],
   "source": [
    "train_cat.Location.unique()"
   ]
  },
  {
   "cell_type": "markdown",
   "id": "9a064da1",
   "metadata": {},
   "source": [
    "## StadiumType"
   ]
  },
  {
   "cell_type": "code",
   "execution_count": 59,
   "id": "00f259e1",
   "metadata": {},
   "outputs": [
    {
     "data": {
      "text/plain": [
       "Outdoor                      362516\n",
       "Outdoors                      92708\n",
       "Indoors                       56826\n",
       "Dome                          23122\n",
       "Indoor                        19140\n",
       "Retractable Roof              18766\n",
       "Open                          11308\n",
       "Retr. Roof-Closed             11044\n",
       "Domed, closed                  6908\n",
       "Retr. Roof - Closed            6446\n",
       "Domed, open                    3696\n",
       "Retr. Roof-Open                3014\n",
       "Retractable Roof - Closed      2222\n",
       "Closed Dome                    2134\n",
       "Dome, closed                   1826\n",
       "Domed                          1826\n",
       "Domed, Open                    1760\n",
       "OUTDOOR                        1254\n",
       "Oudoor                         1188\n",
       "indoor                         1166\n",
       "Retr. Roof Closed              1056\n",
       "Indoor, Roof Closed            1056\n",
       "Bowl                            968\n",
       "Outddors                        968\n",
       "Heinz Field                     902\n",
       "Outdoor Retr Roof-Open          880\n",
       "Retr. Roof - Open               880\n",
       "Ourdoor                         858\n",
       "Outdor                          858\n",
       "Indoor, Open Roof               858\n",
       "Outside                         814\n",
       "Cloudy                          770\n",
       "Indoor, roof open               726\n",
       "Name: StadiumType, dtype: int64"
      ]
     },
     "execution_count": 59,
     "metadata": {},
     "output_type": "execute_result"
    }
   ],
   "source": [
    "train_cat.StadiumType.value_counts()"
   ]
  },
  {
   "cell_type": "code",
   "execution_count": 60,
   "id": "c404d576",
   "metadata": {},
   "outputs": [],
   "source": [
    "def convert_stadium_type_to_dict(text):\n",
    "    stadium_type_dict = {}\n",
    "    if str(text)=='nan':\n",
    "        return stadium_type_dict\n",
    "    if 'outdoor' in text.lower() or 'open' in text.lower() or 'heinz' in text.lower() \\\n",
    "    or 'ourdoor' in text.lower() or 'outdor' in text.lower():\n",
    "        stadium_type_dict['outdoor'] = 1\n",
    "    if ('indoor' in text.lower() and 'open' not in text.lower()) or 'closed' in text.lower():\n",
    "        stadium_type_dict['indoor'] = 1\n",
    "    if 'retr' in text.lower():\n",
    "        stadium_type_dict['retractable'] = 1\n",
    "    return stadium_type_dict"
   ]
  },
  {
   "cell_type": "code",
   "execution_count": 61,
   "id": "c7c5c90b",
   "metadata": {},
   "outputs": [],
   "source": [
    "def oneHotEncoding_stadium_type(df):\n",
    "    bow_stadium_type = df.StadiumType.apply(lambda x : convert_stadium_type_to_dict(x))\n",
    "    vect = DictVectorizer(sparse=False)\n",
    "    vectors_stadium_types = vect.fit_transform(bow_stadium_type)\n",
    "    stadium_type_dummies = pd.DataFrame(vectors_stadium_types, columns=vect.get_feature_names())\n",
    "    return pd.concat([df.drop('StadiumType', axis=1), stadium_type_dummies], axis=1)"
   ]
  },
  {
   "cell_type": "markdown",
   "id": "846a9693",
   "metadata": {},
   "source": [
    "## Turf"
   ]
  },
  {
   "cell_type": "code",
   "execution_count": 62,
   "id": "d0058a36",
   "metadata": {},
   "outputs": [
    {
     "data": {
      "text/plain": [
       "array(['Field Turf', 'A-Turf Titan', 'Grass', 'UBU Sports Speed S5-M',\n",
       "       'Artificial', 'DD GrassMaster', 'Natural Grass',\n",
       "       'UBU Speed Series-S5-M', 'FieldTurf', 'FieldTurf 360',\n",
       "       'Natural grass', 'grass', 'Natural', 'Artifical', 'FieldTurf360',\n",
       "       'Naturall Grass', 'Field turf', 'SISGrass',\n",
       "       'Twenty-Four/Seven Turf', 'natural grass', 'UBU-Speed Series-S5-M',\n",
       "       'Twenty Four/Seven Turf', 'Turf'], dtype=object)"
      ]
     },
     "execution_count": 62,
     "metadata": {},
     "output_type": "execute_result"
    }
   ],
   "source": [
    "train_cat.Turf.unique()"
   ]
  },
  {
   "cell_type": "code",
   "execution_count": 63,
   "id": "9b409cc8",
   "metadata": {},
   "outputs": [],
   "source": [
    "def convert_turf(x):\n",
    "    return 'Natural' if x.lower() in ['grass','natural grass','natural','naturall grass'] else 'Artificial'"
   ]
  },
  {
   "cell_type": "code",
   "execution_count": 64,
   "id": "2cc156e0",
   "metadata": {},
   "outputs": [],
   "source": [
    "def process_turf(df):\n",
    "    df['IsTurfNatural'] = df.Turf.apply(lambda x : 1 if convert_turf(x)=='Natural' else 0)\n",
    "    return df.drop('Turf', axis=1)"
   ]
  },
  {
   "cell_type": "markdown",
   "id": "272e3cc2",
   "metadata": {},
   "source": [
    "## GameWeather"
   ]
  },
  {
   "cell_type": "code",
   "execution_count": 65,
   "id": "9f3d15d9",
   "metadata": {},
   "outputs": [
    {
     "data": {
      "text/plain": [
       "array(['Clear and warm', 'Sun & clouds', 'Sunny', 'Controlled Climate',\n",
       "       'Mostly Sunny', 'Clear', nan, 'Indoor', 'Mostly Cloudy',\n",
       "       'Mostly Coudy', 'Partly sunny', 'Partly Cloudy', 'Cloudy',\n",
       "       'Sunny, highs to upper 80s', 'Indoors', 'Light Rain', 'Showers',\n",
       "       'Partly cloudy', 'Partly Sunny', '30% Chance of Rain',\n",
       "       'Cloudy with periods of rain, thunder possible. Winds shifting to WNW, 10-20 mph.',\n",
       "       'Rain', 'Cloudy, fog started developing in 2nd quarter', 'Coudy',\n",
       "       'Rain likely, temps in low 40s.', 'Cold', 'N/A (Indoors)',\n",
       "       'Clear skies', 'cloudy', 'Fair', 'Mostly cloudy',\n",
       "       'Cloudy, chance of rain', 'Heavy lake effect snow', 'Party Cloudy',\n",
       "       'Cloudy, light snow accumulating 1-3\"', 'Cloudy and cold', 'Snow',\n",
       "       'Hazy', 'Scattered Showers', 'Cloudy and Cool', 'N/A Indoor',\n",
       "       'Rain Chance 40%', 'Clear and sunny', 'Mostly sunny',\n",
       "       'Sunny and warm', 'Partly clear', 'Cloudy, 50% change of rain',\n",
       "       'Clear and Sunny', 'Sunny, Windy', 'Clear and Cool',\n",
       "       'Sunny and clear', 'Mostly Sunny Skies', 'Partly Clouidy',\n",
       "       'Clear Skies', 'Sunny Skies', 'Overcast',\n",
       "       'T: 51; H: 55; W: NW 10 mph', 'Cloudy, Rain', 'Rain shower',\n",
       "       'Clear and cold', 'Rainy', 'Sunny and cold',\n",
       "       'Partly cloudy and mild', 'Breezy', 'Light rain', 'partly cloudy',\n",
       "       'Mostly Clear', 'N/A Indoors', 'sUNNY',\n",
       "       'Cloudy with showers and wind', 'overcast', 'Mostly clear',\n",
       "       'Raining', 'Rain and Wind'], dtype=object)"
      ]
     },
     "execution_count": 65,
     "metadata": {},
     "output_type": "execute_result"
    }
   ],
   "source": [
    "train_cat.GameWeather.unique()"
   ]
  },
  {
   "cell_type": "code",
   "execution_count": 66,
   "id": "a9794575",
   "metadata": {},
   "outputs": [],
   "source": [
    "def convert_game_weather_to_dict(text):\n",
    "    game_weather_dict = {}\n",
    "    if str(text)=='nan':\n",
    "        return game_weather_dict\n",
    "    if 'clear' in text.lower(): \n",
    "        game_weather_dict['clear'] = 1\n",
    "    if 'warm' in text.lower():\n",
    "        game_weather_dict['warm'] = 1\n",
    "    if 'sun' in text.lower():\n",
    "        game_weather_dict['sunny'] = 1\n",
    "    if 'cloud' in text.lower() or 'coudy' in text.lower() or 'clouidy' in text.lower() or 'overcast' in text.lower():\n",
    "        game_weather_dict['cloud'] = 1\n",
    "    if 'indoor' in text.lower():\n",
    "        game_weather_dict['indoor'] = 1\n",
    "    if 'rain' in text.lower():\n",
    "        game_weather_dict['rain'] = 1\n",
    "    if 'shower' in text.lower():\n",
    "        game_weather_dict['shower'] = 1\n",
    "    if 'snow' in text.lower():\n",
    "        game_weather_dict['snow'] = 1\n",
    "    if 'cold' in text.lower():\n",
    "        game_weather_dict['cold'] = 1\n",
    "    if 'cool' in text.lower():\n",
    "        game_weather_dict['cool'] = 1\n",
    "    return game_weather_dict"
   ]
  },
  {
   "cell_type": "code",
   "execution_count": 67,
   "id": "c125f18d",
   "metadata": {},
   "outputs": [],
   "source": [
    "def oneHotEncoding_game_weather(df):\n",
    "    bow_game_weather = df.GameWeather.apply(lambda x : convert_game_weather_to_dict(x))\n",
    "    vect = DictVectorizer(sparse=False)\n",
    "    vectors_game_weather = vect.fit_transform(bow_game_weather)\n",
    "    game_weather_dummies = pd.DataFrame(vectors_game_weather, columns=vect.get_feature_names())\n",
    "    return pd.concat([df.drop('GameWeather', axis=1), game_weather_dummies], axis=1)"
   ]
  },
  {
   "cell_type": "markdown",
   "id": "4b0b6633",
   "metadata": {},
   "source": [
    "## WindSpeed"
   ]
  },
  {
   "cell_type": "code",
   "execution_count": 68,
   "id": "6ca1ee65",
   "metadata": {},
   "outputs": [
    {
     "data": {
      "text/plain": [
       "array([8.0, 6.0, 10.0, 9.0, 11.0, nan, 7.0, 5.0, 2.0, 12.0, 1, 3, 4, 13,\n",
       "       '10', '5', '6', '4', '8', '0', 'SSW', 14.0, 0.0, 15.0, 17.0, 18.0,\n",
       "       16.0, '11-17', '16', '14', '13', '12', '23', '7', '9', '3', '17',\n",
       "       '14-23', '1', '13 MPH', 24.0, '15', '12-22', '2', '4 MPh',\n",
       "       '15 gusts up to 25', '11', '10MPH', '10mph', '22', 'E', '7 MPH',\n",
       "       'Calm', '6 mph', '19', 'SE', '20', '10-20', '12mph', '6mph',\n",
       "       '9mph', 'SSE', '14 Gusting to 24', '6 mph, Gusts to 10',\n",
       "       '2 mph, gusts to 5', 23.0, 19, '12 mph', '9 mph, gusts to 13',\n",
       "       '10 mph, gusts to 15'], dtype=object)"
      ]
     },
     "execution_count": 68,
     "metadata": {},
     "output_type": "execute_result"
    }
   ],
   "source": [
    "train_cat.WindSpeed.unique()"
   ]
  },
  {
   "cell_type": "code",
   "execution_count": 69,
   "id": "87169683",
   "metadata": {},
   "outputs": [],
   "source": [
    "def process_wind_speed(x):\n",
    "    digits = [int(i) for i in str(x).lower().replace('mph','').replace('.0','').replace('-',' ').split(' ') if i.isnumeric()]\n",
    "    return sum(digits)/len(digits) if len(digits)>0 else 0"
   ]
  },
  {
   "cell_type": "markdown",
   "id": "18906e6c",
   "metadata": {},
   "source": [
    "## WindDirection"
   ]
  },
  {
   "cell_type": "code",
   "execution_count": 70,
   "id": "56d6d609",
   "metadata": {
    "scrolled": true
   },
   "outputs": [
    {
     "data": {
      "text/plain": [
       "array(['SW', 'NNE', 'SE', 'East', nan, 'NE', 'North', 'S', 'Northwest',\n",
       "       'SouthWest', 'ENE', 'ESE', 'SSW', 'NW', 'Northeast', 'From S', 'W',\n",
       "       'South', 'West-Southwest', 'E', '13', 'N', 'NNW',\n",
       "       'South Southeast', 'SSE', 'West', 'WSW', 'From SW', 'WNW', 's',\n",
       "       'NorthEast', 'from W', 'W-NW', 'South Southwest', 'Southeast',\n",
       "       'From WSW', 'West Northwest', 'Calm', 'From SSE', 'From W',\n",
       "       'East North East', 'From ESE', 'EAST', 'East Southeast',\n",
       "       'From SSW', '8', 'North East', 'Southwest', 'North/Northwest',\n",
       "       'From NNE', '1', 'N-NE', 'W-SW', 'From NNW', 'S-SW', 'From NE',\n",
       "       'South west', 'South, Southeast', 'Southerly'], dtype=object)"
      ]
     },
     "execution_count": 70,
     "metadata": {},
     "output_type": "execute_result"
    }
   ],
   "source": [
    "train_cat.WindDirection.unique()"
   ]
  },
  {
   "cell_type": "code",
   "execution_count": 71,
   "id": "bb91dd4d",
   "metadata": {},
   "outputs": [],
   "source": [
    "dict_wind_direction = {\n",
    "    'east': 'e', \n",
    "    'north': 'n', \n",
    "    'northwest': 'nw',\n",
    "    'southwest': 'sw', \n",
    "    'northeast': 'ne', \n",
    "    'south': 's', \n",
    "    'west-southwest': 'wsw', \n",
    "    'south southeast': 'sse', \n",
    "    'west': 'w', \n",
    "    'northeast': 'ne', \n",
    "    'w-nw': 'wnw', \n",
    "    'south southwest': 'ssw', \n",
    "    'southeast': 'se',\n",
    "    'west northwest': 'wnw',\n",
    "    'east north east': 'ene', \n",
    "    'east southeast': 'ese',\n",
    "    'north east': 'ne', \n",
    "    'north/northwest': 'nnw',\n",
    "    'n-ne': 'nne', \n",
    "    'w-sw': 'wsw', \n",
    "    's-sw': 'ssw', \n",
    "    'south west': 'sw', \n",
    "    'south, southeast': 'sse', \n",
    "    'southerly': 's'\n",
    "}"
   ]
  },
  {
   "cell_type": "code",
   "execution_count": 72,
   "id": "e4af33be",
   "metadata": {},
   "outputs": [],
   "source": [
    "def process_wind_direction(x):\n",
    "    if isinstance(x,float) or x.isnumeric() or x.lower() in ['calm']:\n",
    "        return ''\n",
    "    return dict_wind_direction.get(x.lower().replace('from ',''), x.lower().replace('from ',''))"
   ]
  },
  {
   "cell_type": "code",
   "execution_count": 73,
   "id": "6e41626d",
   "metadata": {},
   "outputs": [],
   "source": [
    "def oneHotEncoding_wind_direction(df):\n",
    "    wind_direction_dummies = pd.get_dummies(df.WindDirection.apply(lambda x : process_wind_direction(x)), columns=df.WindDirection.unique())\n",
    "    return pd.concat([df.drop('WindDirection', axis=1), wind_direction_dummies], axis=1)"
   ]
  },
  {
   "cell_type": "markdown",
   "id": "65c8e924",
   "metadata": {},
   "source": [
    "## Drop categorical features"
   ]
  },
  {
   "cell_type": "code",
   "execution_count": 74,
   "id": "fdba7e37",
   "metadata": {},
   "outputs": [],
   "source": [
    "def drop_categorical_features(df):\n",
    "    return df.drop(columns=['DisplayName','OffensePersonnel','DefensePersonnel', 'PlayerCollegeName','HomeTeamAbbr','VisitorTeamAbbr','Stadium','Location'], axis=1)"
   ]
  },
  {
   "cell_type": "markdown",
   "id": "6fb46f57",
   "metadata": {},
   "source": [
    "# Numerical Features"
   ]
  },
  {
   "cell_type": "code",
   "execution_count": 75,
   "id": "7decc5d3",
   "metadata": {},
   "outputs": [],
   "source": [
    "train_num = train.select_dtypes(include=['int64','float64'])"
   ]
  },
  {
   "cell_type": "code",
   "execution_count": 76,
   "id": "29e3e42b",
   "metadata": {},
   "outputs": [
    {
     "name": "stdout",
     "output_type": "stream",
     "text": [
      "<class 'pandas.core.frame.DataFrame'>\n",
      "RangeIndex: 682154 entries, 0 to 682153\n",
      "Data columns (total 25 columns):\n",
      " #   Column                  Non-Null Count   Dtype  \n",
      "---  ------                  --------------   -----  \n",
      " 0   GameId                  682154 non-null  int64  \n",
      " 1   PlayId                  682154 non-null  int64  \n",
      " 2   X                       682154 non-null  float64\n",
      " 3   Y                       682154 non-null  float64\n",
      " 4   S                       682154 non-null  float64\n",
      " 5   A                       682154 non-null  float64\n",
      " 6   Dis                     682154 non-null  float64\n",
      " 7   Orientation             682131 non-null  float64\n",
      " 8   Dir                     682126 non-null  float64\n",
      " 9   NflId                   682154 non-null  int64  \n",
      " 10  JerseyNumber            682154 non-null  int64  \n",
      " 11  Season                  682154 non-null  int64  \n",
      " 12  YardLine                682154 non-null  int64  \n",
      " 13  Quarter                 682154 non-null  int64  \n",
      " 14  Down                    682154 non-null  int64  \n",
      " 15  Distance                682154 non-null  int64  \n",
      " 16  HomeScoreBeforePlay     682154 non-null  int64  \n",
      " 17  VisitorScoreBeforePlay  682154 non-null  int64  \n",
      " 18  NflIdRusher             682154 non-null  int64  \n",
      " 19  DefendersInTheBox       682132 non-null  float64\n",
      " 20  Yards                   682154 non-null  int64  \n",
      " 21  PlayerWeight            682154 non-null  int64  \n",
      " 22  Week                    682154 non-null  int64  \n",
      " 23  Temperature             618508 non-null  float64\n",
      " 24  Humidity                675994 non-null  float64\n",
      "dtypes: float64(10), int64(15)\n",
      "memory usage: 130.1 MB\n"
     ]
    }
   ],
   "source": [
    "train_num.info()"
   ]
  },
  {
   "cell_type": "markdown",
   "id": "c2f90637",
   "metadata": {},
   "source": [
    "## Droped numerical features"
   ]
  },
  {
   "cell_type": "code",
   "execution_count": 77,
   "id": "8bc9a7db",
   "metadata": {},
   "outputs": [],
   "source": [
    "def drop_numerical_features(df):\n",
    "    return df.drop(columns=['GameId', 'PlayId', 'JerseyNumber','Season'], axis=1)"
   ]
  },
  {
   "cell_type": "markdown",
   "id": "f54bca73",
   "metadata": {},
   "source": [
    "## NflId & NflIdRusher"
   ]
  },
  {
   "cell_type": "code",
   "execution_count": 78,
   "id": "d64c185f",
   "metadata": {},
   "outputs": [],
   "source": [
    "def process_is_rusher(df):\n",
    "    df['IsRusher'] = df.NflId == df.NflIdRusher\n",
    "    df['IsRusher'] = df['IsRusher'].apply(lambda x : 1 if x else 0)\n",
    "    return df.drop(columns=['NflId','NflIdRusher'])"
   ]
  },
  {
   "cell_type": "markdown",
   "id": "f499d5ff",
   "metadata": {},
   "source": [
    "## Orientation"
   ]
  },
  {
   "cell_type": "code",
   "execution_count": 126,
   "id": "fbc5119f",
   "metadata": {},
   "outputs": [],
   "source": [
    "# replace null values with 180 (happens to be the average)\n",
    "def proc_orientation(x):\n",
    "    return x if x==True else 180"
   ]
  },
  {
   "cell_type": "markdown",
   "id": "1788ba0a",
   "metadata": {},
   "source": [
    "## Dir"
   ]
  },
  {
   "cell_type": "code",
   "execution_count": 133,
   "id": "ca000d93",
   "metadata": {},
   "outputs": [],
   "source": [
    "# replace null values with 180 (happens to be the average)\n",
    "def proc_dir(x):\n",
    "    return x if x==True else 180"
   ]
  },
  {
   "cell_type": "markdown",
   "id": "e0377d06",
   "metadata": {},
   "source": [
    "## DefendersInTheBox"
   ]
  },
  {
   "cell_type": "code",
   "execution_count": 133,
   "id": "2efe7155",
   "metadata": {},
   "outputs": [],
   "source": [
    "# replace null values with 180 (happens to be the average)\n",
    "def proc_dir(x):\n",
    "    return x if x==True else 180"
   ]
  },
  {
   "cell_type": "code",
   "execution_count": 135,
   "id": "3ba532e5",
   "metadata": {},
   "outputs": [
    {
     "data": {
      "text/plain": [
       "6.910339934206283"
      ]
     },
     "execution_count": 135,
     "metadata": {},
     "output_type": "execute_result"
    }
   ],
   "source": [
    "test = train_num[train_num.DefendersInTheBox.notnull()]\n",
    "sum(test.DefendersInTheBox)/len(test.DefendersInTheBox)"
   ]
  },
  {
   "cell_type": "markdown",
   "id": "4e96e2ed",
   "metadata": {},
   "source": [
    "# Processing of all features"
   ]
  },
  {
   "cell_type": "code",
   "execution_count": 127,
   "id": "75744702",
   "metadata": {},
   "outputs": [],
   "source": [
    "def process_features(df_source):\n",
    "    df = df_source.copy()\n",
    "    df.Team = df.Team.apply(lambda x : proc_team(x))\n",
    "    df.GameClock = df.GameClock.apply(lambda x : proc_gameclock(x))\n",
    "    df = possession_in_fieldPosition(df)\n",
    "    df = oneHotEncoding_offense_formation(df)\n",
    "    df = oneHotEncoding_position(df)\n",
    "    df.PlayDirection = df.PlayDirection.apply(lambda x : proc_play_direction(x))\n",
    "    df = proc_time_handoff_snap_and_player_age(df)\n",
    "    df.PlayerHeight = df.PlayerHeight.apply(lambda x : proc_player_height(x))\n",
    "    df = oneHotEncoding_stadium_type(df)\n",
    "    df = process_turf(df)\n",
    "    df = oneHotEncoding_game_weather(df)\n",
    "    df.WindSpeed = df.WindSpeed.apply(lambda x : process_wind_speed(x))\n",
    "    df = oneHotEncoding_wind_direction(df)\n",
    "    df = process_is_rusher(df)\n",
    "    df = drop_categorical_features(df)\n",
    "    df.Orientation = df.Orientation.apply(lambda x : proc_orientation(x))\n",
    "    df.Dir = df.Dir.apply(lambda x : proc_dir(x))\n",
    "    df = drop_numerical_features(df)\n",
    "    return df"
   ]
  },
  {
   "cell_type": "markdown",
   "id": "3fcbc09e",
   "metadata": {},
   "source": [
    "# Save processed data"
   ]
  },
  {
   "cell_type": "code",
   "execution_count": 80,
   "id": "b9c1415d",
   "metadata": {},
   "outputs": [],
   "source": [
    "train_proc = process_features(train)"
   ]
  },
  {
   "cell_type": "code",
   "execution_count": 91,
   "id": "b3455947",
   "metadata": {},
   "outputs": [
    {
     "name": "stdout",
     "output_type": "stream",
     "text": [
      "Orientation\n",
      "Dir\n",
      "DefendersInTheBox\n",
      "Temperature\n",
      "Humidity\n"
     ]
    }
   ],
   "source": [
    "for col in train_proc.columns:\n",
    "    if np.any(np.isnan(train_proc[col])):\n",
    "        print(col)"
   ]
  },
  {
   "cell_type": "code",
   "execution_count": null,
   "id": "7b0db805",
   "metadata": {},
   "outputs": [],
   "source": []
  },
  {
   "cell_type": "code",
   "execution_count": 139,
   "id": "7eab6a54",
   "metadata": {},
   "outputs": [
    {
     "name": "stdout",
     "output_type": "stream",
     "text": [
      "<class 'pandas.core.frame.DataFrame'>\n",
      "RangeIndex: 682154 entries, 0 to 682153\n",
      "Data columns (total 92 columns):\n",
      " #   Column                     Non-Null Count   Dtype  \n",
      "---  ------                     --------------   -----  \n",
      " 0   Team                       682154 non-null  int64  \n",
      " 1   X                          682154 non-null  float64\n",
      " 2   Y                          682154 non-null  float64\n",
      " 3   S                          682154 non-null  float64\n",
      " 4   A                          682154 non-null  float64\n",
      " 5   Dis                        682154 non-null  float64\n",
      " 6   Orientation                682131 non-null  float64\n",
      " 7   Dir                        682126 non-null  float64\n",
      " 8   YardLine                   682154 non-null  int64  \n",
      " 9   Quarter                    682154 non-null  int64  \n",
      " 10  GameClock                  682154 non-null  float64\n",
      " 11  Down                       682154 non-null  int64  \n",
      " 12  Distance                   682154 non-null  int64  \n",
      " 13  HomeScoreBeforePlay        682154 non-null  int64  \n",
      " 14  VisitorScoreBeforePlay     682154 non-null  int64  \n",
      " 15  DefendersInTheBox          682132 non-null  float64\n",
      " 16  PlayDirection              682154 non-null  int64  \n",
      " 17  Yards                      682154 non-null  int64  \n",
      " 18  PlayerHeight               682154 non-null  float64\n",
      " 19  PlayerWeight               682154 non-null  int64  \n",
      " 20  Week                       682154 non-null  int64  \n",
      " 21  Temperature                618508 non-null  float64\n",
      " 22  Humidity                   675994 non-null  float64\n",
      " 23  WindSpeed                  682154 non-null  float64\n",
      " 24  PossessionInFieldPosition  682154 non-null  int64  \n",
      " 25  ACE                        682154 non-null  uint8  \n",
      " 26  EMPTY                      682154 non-null  uint8  \n",
      " 27  I_FORM                     682154 non-null  uint8  \n",
      " 28  JUMBO                      682154 non-null  uint8  \n",
      " 29  PISTOL                     682154 non-null  uint8  \n",
      " 30  SHOTGUN                    682154 non-null  uint8  \n",
      " 31  SINGLEBACK                 682154 non-null  uint8  \n",
      " 32  WILDCAT                    682154 non-null  uint8  \n",
      " 33  C                          682154 non-null  uint8  \n",
      " 34  CB                         682154 non-null  uint8  \n",
      " 35  DB                         682154 non-null  uint8  \n",
      " 36  DE                         682154 non-null  uint8  \n",
      " 37  DL                         682154 non-null  uint8  \n",
      " 38  DT                         682154 non-null  uint8  \n",
      " 39  FB                         682154 non-null  uint8  \n",
      " 40  FS                         682154 non-null  uint8  \n",
      " 41  G                          682154 non-null  uint8  \n",
      " 42  HB                         682154 non-null  uint8  \n",
      " 43  ILB                        682154 non-null  uint8  \n",
      " 44  LB                         682154 non-null  uint8  \n",
      " 45  MLB                        682154 non-null  uint8  \n",
      " 46  NT                         682154 non-null  uint8  \n",
      " 47  OG                         682154 non-null  uint8  \n",
      " 48  OLB                        682154 non-null  uint8  \n",
      " 49  OT                         682154 non-null  uint8  \n",
      " 50  QB                         682154 non-null  uint8  \n",
      " 51  RB                         682154 non-null  uint8  \n",
      " 52  S                          682154 non-null  uint8  \n",
      " 53  SAF                        682154 non-null  uint8  \n",
      " 54  SS                         682154 non-null  uint8  \n",
      " 55  T                          682154 non-null  uint8  \n",
      " 56  TE                         682154 non-null  uint8  \n",
      " 57  WR                         682154 non-null  uint8  \n",
      " 58  TimeDeltaHandoff           682154 non-null  float64\n",
      " 59  PlayerAge                  682154 non-null  float64\n",
      " 60  indoor                     682154 non-null  float64\n",
      " 61  outdoor                    682154 non-null  float64\n",
      " 62  retractable                682154 non-null  float64\n",
      " 63  IsTurfNatural              682154 non-null  int64  \n",
      " 64  clear                      682154 non-null  float64\n",
      " 65  cloud                      682154 non-null  float64\n",
      " 66  cold                       682154 non-null  float64\n",
      " 67  cool                       682154 non-null  float64\n",
      " 68  indoor                     682154 non-null  float64\n",
      " 69  rain                       682154 non-null  float64\n",
      " 70  shower                     682154 non-null  float64\n",
      " 71  snow                       682154 non-null  float64\n",
      " 72  sunny                      682154 non-null  float64\n",
      " 73  warm                       682154 non-null  float64\n",
      " 74                             682154 non-null  uint8  \n",
      " 75  e                          682154 non-null  uint8  \n",
      " 76  ene                        682154 non-null  uint8  \n",
      " 77  ese                        682154 non-null  uint8  \n",
      " 78  n                          682154 non-null  uint8  \n",
      " 79  ne                         682154 non-null  uint8  \n",
      " 80  nne                        682154 non-null  uint8  \n",
      " 81  nnw                        682154 non-null  uint8  \n",
      " 82  nw                         682154 non-null  uint8  \n",
      " 83  s                          682154 non-null  uint8  \n",
      " 84  se                         682154 non-null  uint8  \n",
      " 85  sse                        682154 non-null  uint8  \n",
      " 86  ssw                        682154 non-null  uint8  \n",
      " 87  sw                         682154 non-null  uint8  \n",
      " 88  w                          682154 non-null  uint8  \n",
      " 89  wnw                        682154 non-null  uint8  \n",
      " 90  wsw                        682154 non-null  uint8  \n",
      " 91  IsRusher                   682154 non-null  int64  \n",
      "dtypes: float64(28), int64(14), uint8(50)\n",
      "memory usage: 251.1 MB\n"
     ]
    }
   ],
   "source": [
    "train_proc.info()"
   ]
  },
  {
   "cell_type": "code",
   "execution_count": 170,
   "id": "affcf337",
   "metadata": {},
   "outputs": [],
   "source": [
    "X_train, X_test, y_train, y_test = train_test_split(train_proc, y, test_size=0.3, random_state=2)"
   ]
  },
  {
   "cell_type": "code",
   "execution_count": 171,
   "id": "121bf52b",
   "metadata": {},
   "outputs": [
    {
     "data": {
      "text/html": [
       "<div>\n",
       "<style scoped>\n",
       "    .dataframe tbody tr th:only-of-type {\n",
       "        vertical-align: middle;\n",
       "    }\n",
       "\n",
       "    .dataframe tbody tr th {\n",
       "        vertical-align: top;\n",
       "    }\n",
       "\n",
       "    .dataframe thead th {\n",
       "        text-align: right;\n",
       "    }\n",
       "</style>\n",
       "<table border=\"1\" class=\"dataframe\">\n",
       "  <thead>\n",
       "    <tr style=\"text-align: right;\">\n",
       "      <th></th>\n",
       "      <th>Team</th>\n",
       "      <th>X</th>\n",
       "      <th>Y</th>\n",
       "      <th>S</th>\n",
       "      <th>A</th>\n",
       "      <th>Dis</th>\n",
       "      <th>Orientation</th>\n",
       "      <th>Dir</th>\n",
       "      <th>YardLine</th>\n",
       "      <th>Quarter</th>\n",
       "      <th>...</th>\n",
       "      <th>nw</th>\n",
       "      <th>s</th>\n",
       "      <th>se</th>\n",
       "      <th>sse</th>\n",
       "      <th>ssw</th>\n",
       "      <th>sw</th>\n",
       "      <th>w</th>\n",
       "      <th>wnw</th>\n",
       "      <th>wsw</th>\n",
       "      <th>IsRusher</th>\n",
       "    </tr>\n",
       "  </thead>\n",
       "  <tbody>\n",
       "    <tr>\n",
       "      <th>605093</th>\n",
       "      <td>0</td>\n",
       "      <td>83.46</td>\n",
       "      <td>24.50</td>\n",
       "      <td>1.96</td>\n",
       "      <td>0.79</td>\n",
       "      <td>0.20</td>\n",
       "      <td>80.87</td>\n",
       "      <td>276.82</td>\n",
       "      <td>4</td>\n",
       "      <td>4</td>\n",
       "      <td>...</td>\n",
       "      <td>0</td>\n",
       "      <td>0</td>\n",
       "      <td>0</td>\n",
       "      <td>0</td>\n",
       "      <td>0</td>\n",
       "      <td>1</td>\n",
       "      <td>0</td>\n",
       "      <td>0</td>\n",
       "      <td>0</td>\n",
       "      <td>0</td>\n",
       "    </tr>\n",
       "    <tr>\n",
       "      <th>524681</th>\n",
       "      <td>0</td>\n",
       "      <td>59.55</td>\n",
       "      <td>28.58</td>\n",
       "      <td>0.70</td>\n",
       "      <td>1.14</td>\n",
       "      <td>0.07</td>\n",
       "      <td>343.53</td>\n",
       "      <td>202.67</td>\n",
       "      <td>50</td>\n",
       "      <td>1</td>\n",
       "      <td>...</td>\n",
       "      <td>0</td>\n",
       "      <td>0</td>\n",
       "      <td>0</td>\n",
       "      <td>0</td>\n",
       "      <td>0</td>\n",
       "      <td>0</td>\n",
       "      <td>0</td>\n",
       "      <td>0</td>\n",
       "      <td>0</td>\n",
       "      <td>0</td>\n",
       "    </tr>\n",
       "    <tr>\n",
       "      <th>674288</th>\n",
       "      <td>0</td>\n",
       "      <td>32.90</td>\n",
       "      <td>34.49</td>\n",
       "      <td>2.41</td>\n",
       "      <td>0.44</td>\n",
       "      <td>0.26</td>\n",
       "      <td>58.21</td>\n",
       "      <td>317.77</td>\n",
       "      <td>25</td>\n",
       "      <td>1</td>\n",
       "      <td>...</td>\n",
       "      <td>0</td>\n",
       "      <td>0</td>\n",
       "      <td>0</td>\n",
       "      <td>0</td>\n",
       "      <td>0</td>\n",
       "      <td>0</td>\n",
       "      <td>0</td>\n",
       "      <td>0</td>\n",
       "      <td>0</td>\n",
       "      <td>0</td>\n",
       "    </tr>\n",
       "    <tr>\n",
       "      <th>443826</th>\n",
       "      <td>1</td>\n",
       "      <td>10.66</td>\n",
       "      <td>18.54</td>\n",
       "      <td>3.25</td>\n",
       "      <td>1.67</td>\n",
       "      <td>0.32</td>\n",
       "      <td>307.06</td>\n",
       "      <td>299.70</td>\n",
       "      <td>1</td>\n",
       "      <td>1</td>\n",
       "      <td>...</td>\n",
       "      <td>0</td>\n",
       "      <td>0</td>\n",
       "      <td>0</td>\n",
       "      <td>0</td>\n",
       "      <td>0</td>\n",
       "      <td>0</td>\n",
       "      <td>0</td>\n",
       "      <td>1</td>\n",
       "      <td>0</td>\n",
       "      <td>0</td>\n",
       "    </tr>\n",
       "    <tr>\n",
       "      <th>159363</th>\n",
       "      <td>1</td>\n",
       "      <td>57.44</td>\n",
       "      <td>30.63</td>\n",
       "      <td>3.34</td>\n",
       "      <td>2.02</td>\n",
       "      <td>0.31</td>\n",
       "      <td>167.20</td>\n",
       "      <td>212.90</td>\n",
       "      <td>44</td>\n",
       "      <td>2</td>\n",
       "      <td>...</td>\n",
       "      <td>0</td>\n",
       "      <td>0</td>\n",
       "      <td>0</td>\n",
       "      <td>0</td>\n",
       "      <td>0</td>\n",
       "      <td>0</td>\n",
       "      <td>0</td>\n",
       "      <td>0</td>\n",
       "      <td>0</td>\n",
       "      <td>1</td>\n",
       "    </tr>\n",
       "    <tr>\n",
       "      <th>...</th>\n",
       "      <td>...</td>\n",
       "      <td>...</td>\n",
       "      <td>...</td>\n",
       "      <td>...</td>\n",
       "      <td>...</td>\n",
       "      <td>...</td>\n",
       "      <td>...</td>\n",
       "      <td>...</td>\n",
       "      <td>...</td>\n",
       "      <td>...</td>\n",
       "      <td>...</td>\n",
       "      <td>...</td>\n",
       "      <td>...</td>\n",
       "      <td>...</td>\n",
       "      <td>...</td>\n",
       "      <td>...</td>\n",
       "      <td>...</td>\n",
       "      <td>...</td>\n",
       "      <td>...</td>\n",
       "      <td>...</td>\n",
       "      <td>...</td>\n",
       "    </tr>\n",
       "    <tr>\n",
       "      <th>84434</th>\n",
       "      <td>1</td>\n",
       "      <td>51.05</td>\n",
       "      <td>42.58</td>\n",
       "      <td>3.26</td>\n",
       "      <td>2.80</td>\n",
       "      <td>0.57</td>\n",
       "      <td>143.49</td>\n",
       "      <td>159.34</td>\n",
       "      <td>39</td>\n",
       "      <td>3</td>\n",
       "      <td>...</td>\n",
       "      <td>0</td>\n",
       "      <td>0</td>\n",
       "      <td>1</td>\n",
       "      <td>0</td>\n",
       "      <td>0</td>\n",
       "      <td>0</td>\n",
       "      <td>0</td>\n",
       "      <td>0</td>\n",
       "      <td>0</td>\n",
       "      <td>0</td>\n",
       "    </tr>\n",
       "    <tr>\n",
       "      <th>437782</th>\n",
       "      <td>0</td>\n",
       "      <td>96.21</td>\n",
       "      <td>36.82</td>\n",
       "      <td>2.15</td>\n",
       "      <td>1.90</td>\n",
       "      <td>0.24</td>\n",
       "      <td>134.02</td>\n",
       "      <td>45.89</td>\n",
       "      <td>15</td>\n",
       "      <td>3</td>\n",
       "      <td>...</td>\n",
       "      <td>0</td>\n",
       "      <td>0</td>\n",
       "      <td>0</td>\n",
       "      <td>0</td>\n",
       "      <td>0</td>\n",
       "      <td>1</td>\n",
       "      <td>0</td>\n",
       "      <td>0</td>\n",
       "      <td>0</td>\n",
       "      <td>0</td>\n",
       "    </tr>\n",
       "    <tr>\n",
       "      <th>620104</th>\n",
       "      <td>1</td>\n",
       "      <td>17.47</td>\n",
       "      <td>23.38</td>\n",
       "      <td>3.60</td>\n",
       "      <td>0.30</td>\n",
       "      <td>0.39</td>\n",
       "      <td>251.50</td>\n",
       "      <td>158.87</td>\n",
       "      <td>6</td>\n",
       "      <td>2</td>\n",
       "      <td>...</td>\n",
       "      <td>0</td>\n",
       "      <td>0</td>\n",
       "      <td>0</td>\n",
       "      <td>0</td>\n",
       "      <td>1</td>\n",
       "      <td>0</td>\n",
       "      <td>0</td>\n",
       "      <td>0</td>\n",
       "      <td>0</td>\n",
       "      <td>0</td>\n",
       "    </tr>\n",
       "    <tr>\n",
       "      <th>203245</th>\n",
       "      <td>0</td>\n",
       "      <td>84.64</td>\n",
       "      <td>28.54</td>\n",
       "      <td>1.52</td>\n",
       "      <td>1.17</td>\n",
       "      <td>0.16</td>\n",
       "      <td>313.99</td>\n",
       "      <td>347.07</td>\n",
       "      <td>25</td>\n",
       "      <td>4</td>\n",
       "      <td>...</td>\n",
       "      <td>1</td>\n",
       "      <td>0</td>\n",
       "      <td>0</td>\n",
       "      <td>0</td>\n",
       "      <td>0</td>\n",
       "      <td>0</td>\n",
       "      <td>0</td>\n",
       "      <td>0</td>\n",
       "      <td>0</td>\n",
       "      <td>0</td>\n",
       "    </tr>\n",
       "    <tr>\n",
       "      <th>100879</th>\n",
       "      <td>0</td>\n",
       "      <td>60.00</td>\n",
       "      <td>26.05</td>\n",
       "      <td>2.99</td>\n",
       "      <td>2.47</td>\n",
       "      <td>0.37</td>\n",
       "      <td>87.56</td>\n",
       "      <td>280.94</td>\n",
       "      <td>45</td>\n",
       "      <td>3</td>\n",
       "      <td>...</td>\n",
       "      <td>0</td>\n",
       "      <td>0</td>\n",
       "      <td>0</td>\n",
       "      <td>0</td>\n",
       "      <td>0</td>\n",
       "      <td>0</td>\n",
       "      <td>0</td>\n",
       "      <td>0</td>\n",
       "      <td>0</td>\n",
       "      <td>0</td>\n",
       "    </tr>\n",
       "  </tbody>\n",
       "</table>\n",
       "<p>477507 rows × 92 columns</p>\n",
       "</div>"
      ],
      "text/plain": [
       "        Team      X      Y     S     A   Dis  Orientation     Dir  YardLine  \\\n",
       "605093     0  83.46  24.50  1.96  0.79  0.20        80.87  276.82         4   \n",
       "524681     0  59.55  28.58  0.70  1.14  0.07       343.53  202.67        50   \n",
       "674288     0  32.90  34.49  2.41  0.44  0.26        58.21  317.77        25   \n",
       "443826     1  10.66  18.54  3.25  1.67  0.32       307.06  299.70         1   \n",
       "159363     1  57.44  30.63  3.34  2.02  0.31       167.20  212.90        44   \n",
       "...      ...    ...    ...   ...   ...   ...          ...     ...       ...   \n",
       "84434      1  51.05  42.58  3.26  2.80  0.57       143.49  159.34        39   \n",
       "437782     0  96.21  36.82  2.15  1.90  0.24       134.02   45.89        15   \n",
       "620104     1  17.47  23.38  3.60  0.30  0.39       251.50  158.87         6   \n",
       "203245     0  84.64  28.54  1.52  1.17  0.16       313.99  347.07        25   \n",
       "100879     0  60.00  26.05  2.99  2.47  0.37        87.56  280.94        45   \n",
       "\n",
       "        Quarter  ...  nw  s  se  sse  ssw  sw  w  wnw  wsw  IsRusher  \n",
       "605093        4  ...   0  0   0    0    0   1  0    0    0         0  \n",
       "524681        1  ...   0  0   0    0    0   0  0    0    0         0  \n",
       "674288        1  ...   0  0   0    0    0   0  0    0    0         0  \n",
       "443826        1  ...   0  0   0    0    0   0  0    1    0         0  \n",
       "159363        2  ...   0  0   0    0    0   0  0    0    0         1  \n",
       "...         ...  ...  .. ..  ..  ...  ...  .. ..  ...  ...       ...  \n",
       "84434         3  ...   0  0   1    0    0   0  0    0    0         0  \n",
       "437782        3  ...   0  0   0    0    0   1  0    0    0         0  \n",
       "620104        2  ...   0  0   0    0    1   0  0    0    0         0  \n",
       "203245        4  ...   1  0   0    0    0   0  0    0    0         0  \n",
       "100879        3  ...   0  0   0    0    0   0  0    0    0         0  \n",
       "\n",
       "[477507 rows x 92 columns]"
      ]
     },
     "execution_count": 171,
     "metadata": {},
     "output_type": "execute_result"
    }
   ],
   "source": [
    "X_train"
   ]
  },
  {
   "cell_type": "code",
   "execution_count": 183,
   "id": "21988e5d",
   "metadata": {},
   "outputs": [],
   "source": [
    "model = Sequential()"
   ]
  },
  {
   "cell_type": "code",
   "execution_count": 184,
   "id": "56e9e97d",
   "metadata": {},
   "outputs": [],
   "source": [
    "model.add(layers.Dense(5, input_dim=92, activation='relu')) \n",
    "model.add(layers.Dense(5, activation='tanh'))\n",
    "model.add(layers.Dense(1, activation='linear'))"
   ]
  },
  {
   "cell_type": "code",
   "execution_count": 185,
   "id": "ce01eefa",
   "metadata": {},
   "outputs": [
    {
     "name": "stdout",
     "output_type": "stream",
     "text": [
      "Model: \"sequential_6\"\n",
      "_________________________________________________________________\n",
      "Layer (type)                 Output Shape              Param #   \n",
      "=================================================================\n",
      "dense_24 (Dense)             (None, 5)                 465       \n",
      "_________________________________________________________________\n",
      "dense_25 (Dense)             (None, 5)                 30        \n",
      "_________________________________________________________________\n",
      "dense_26 (Dense)             (None, 1)                 6         \n",
      "=================================================================\n",
      "Total params: 501\n",
      "Trainable params: 501\n",
      "Non-trainable params: 0\n",
      "_________________________________________________________________\n"
     ]
    }
   ],
   "source": [
    "model.summary()"
   ]
  },
  {
   "cell_type": "code",
   "execution_count": 186,
   "id": "493fc966",
   "metadata": {},
   "outputs": [],
   "source": [
    "model.compile(loss='mse', \n",
    "              optimizer=tensorflow.keras.optimizers.Adam(\n",
    "    learning_rate=0.01, beta_1=0.9, beta_2=0.99\n",
    ")\n",
    ")"
   ]
  },
  {
   "cell_type": "code",
   "execution_count": 187,
   "id": "828b50fd",
   "metadata": {},
   "outputs": [
    {
     "name": "stdout",
     "output_type": "stream",
     "text": [
      "14923/14923 [==============================] - 18s 1ms/step - loss: nan\n"
     ]
    },
    {
     "data": {
      "text/plain": [
       "<keras.callbacks.History at 0x7fb814cc19a0>"
      ]
     },
     "execution_count": 187,
     "metadata": {},
     "output_type": "execute_result"
    }
   ],
   "source": [
    "model.fit(X_train, y_train, batch_size=32, epochs=1)"
   ]
  },
  {
   "cell_type": "code",
   "execution_count": 188,
   "id": "1da5212d",
   "metadata": {},
   "outputs": [
    {
     "name": "stdout",
     "output_type": "stream",
     "text": [
      "6396/6396 [==============================] - 5s 698us/step - loss: nan\n"
     ]
    },
    {
     "data": {
      "text/plain": [
       "nan"
      ]
     },
     "execution_count": 188,
     "metadata": {},
     "output_type": "execute_result"
    }
   ],
   "source": [
    "model.evaluate(X_test, y_test)"
   ]
  },
  {
   "cell_type": "code",
   "execution_count": 196,
   "id": "425821b4",
   "metadata": {},
   "outputs": [
    {
     "data": {
      "text/plain": [
       "True"
      ]
     },
     "execution_count": 196,
     "metadata": {},
     "output_type": "execute_result"
    }
   ],
   "source": [
    "np.any(np.isnan(X_train))"
   ]
  },
  {
   "cell_type": "code",
   "execution_count": null,
   "id": "5fb9cbf1",
   "metadata": {},
   "outputs": [],
   "source": []
  }
 ],
 "metadata": {
  "kernelspec": {
   "display_name": "Python 3 (ipykernel)",
   "language": "python",
   "name": "python3"
  },
  "language_info": {
   "codemirror_mode": {
    "name": "ipython",
    "version": 3
   },
   "file_extension": ".py",
   "mimetype": "text/x-python",
   "name": "python",
   "nbconvert_exporter": "python",
   "pygments_lexer": "ipython3",
   "version": "3.8.6"
  },
  "toc": {
   "base_numbering": 1,
   "nav_menu": {},
   "number_sections": true,
   "sideBar": true,
   "skip_h1_title": false,
   "title_cell": "Table of Contents",
   "title_sidebar": "Contents",
   "toc_cell": false,
   "toc_position": {},
   "toc_section_display": true,
   "toc_window_display": false
  }
 },
 "nbformat": 4,
 "nbformat_minor": 5
}
