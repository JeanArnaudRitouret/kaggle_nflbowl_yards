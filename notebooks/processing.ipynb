{
 "cells": [
  {
   "cell_type": "code",
   "execution_count": 1,
   "id": "dbc68270",
   "metadata": {},
   "outputs": [],
   "source": [
    "import pandas as pd\n",
    "import numpy as np\n",
    "import matplotlib.pyplot as plt\n",
    "import seaborn as sns"
   ]
  },
  {
   "cell_type": "code",
   "execution_count": 2,
   "id": "0cf19411",
   "metadata": {},
   "outputs": [],
   "source": [
    "DATA_PATH = '../raw_data'"
   ]
  },
  {
   "cell_type": "code",
   "execution_count": 3,
   "id": "342dce17",
   "metadata": {},
   "outputs": [
    {
     "name": "stderr",
     "output_type": "stream",
     "text": [
      "/home/jeanarnaudritouret/.pyenv/versions/3.8.6/envs/kaggle_nflbowl_yards/lib/python3.8/site-packages/IPython/core/interactiveshell.py:3441: DtypeWarning: Columns (47) have mixed types.Specify dtype option on import or set low_memory=False.\n",
      "  exec(code_obj, self.user_global_ns, self.user_ns)\n"
     ]
    }
   ],
   "source": [
    "train = pd.read_csv(f'{DATA_PATH}/train.csv')\n",
    "X = train.drop(columns='Yards')\n",
    "y = train.Yards"
   ]
  },
  {
   "cell_type": "markdown",
   "id": "c2bf35bd",
   "metadata": {},
   "source": [
    "# Categorical Features"
   ]
  },
  {
   "cell_type": "code",
   "execution_count": 30,
   "id": "2b7ee802",
   "metadata": {},
   "outputs": [],
   "source": [
    "train_cat = train.select_dtypes(include=['object'])"
   ]
  },
  {
   "cell_type": "code",
   "execution_count": 31,
   "id": "a70005e6",
   "metadata": {
    "scrolled": true
   },
   "outputs": [
    {
     "data": {
      "text/plain": [
       "Team                     2\n",
       "DisplayName           2568\n",
       "GameClock              901\n",
       "PossessionTeam          32\n",
       "FieldPosition           32\n",
       "OffenseFormation         8\n",
       "OffensePersonnel        61\n",
       "DefensePersonnel        45\n",
       "PlayDirection            2\n",
       "TimeHandoff          30709\n",
       "TimeSnap             30721\n",
       "PlayerHeight            16\n",
       "PlayerBirthDate       1897\n",
       "PlayerCollegeName      314\n",
       "Position                25\n",
       "HomeTeamAbbr            32\n",
       "VisitorTeamAbbr         32\n",
       "Stadium                 61\n",
       "Location                67\n",
       "StadiumType             33\n",
       "Turf                    23\n",
       "GameWeather             73\n",
       "WindSpeed               69\n",
       "WindDirection           58\n",
       "dtype: int64"
      ]
     },
     "execution_count": 31,
     "metadata": {},
     "output_type": "execute_result"
    }
   ],
   "source": [
    "train_cat.nunique()"
   ]
  },
  {
   "cell_type": "code",
   "execution_count": 32,
   "id": "2b1aaa9c",
   "metadata": {},
   "outputs": [
    {
     "name": "stdout",
     "output_type": "stream",
     "text": [
      "<class 'pandas.core.frame.DataFrame'>\n",
      "RangeIndex: 682154 entries, 0 to 682153\n",
      "Data columns (total 24 columns):\n",
      " #   Column             Non-Null Count   Dtype \n",
      "---  ------             --------------   ----- \n",
      " 0   Team               682154 non-null  object\n",
      " 1   DisplayName        682154 non-null  object\n",
      " 2   GameClock          682154 non-null  object\n",
      " 3   PossessionTeam     682154 non-null  object\n",
      " 4   FieldPosition      673552 non-null  object\n",
      " 5   OffenseFormation   682066 non-null  object\n",
      " 6   OffensePersonnel   682154 non-null  object\n",
      " 7   DefensePersonnel   682154 non-null  object\n",
      " 8   PlayDirection      682154 non-null  object\n",
      " 9   TimeHandoff        682154 non-null  object\n",
      " 10  TimeSnap           682154 non-null  object\n",
      " 11  PlayerHeight       682154 non-null  object\n",
      " 12  PlayerBirthDate    682154 non-null  object\n",
      " 13  PlayerCollegeName  682154 non-null  object\n",
      " 14  Position           682154 non-null  object\n",
      " 15  HomeTeamAbbr       682154 non-null  object\n",
      " 16  VisitorTeamAbbr    682154 non-null  object\n",
      " 17  Stadium            682154 non-null  object\n",
      " 18  Location           682154 non-null  object\n",
      " 19  StadiumType        640464 non-null  object\n",
      " 20  Turf               682154 non-null  object\n",
      " 21  GameWeather        621984 non-null  object\n",
      " 22  WindSpeed          590282 non-null  object\n",
      " 23  WindDirection      577478 non-null  object\n",
      "dtypes: object(24)\n",
      "memory usage: 124.9+ MB\n"
     ]
    }
   ],
   "source": [
    "train_cat.info()"
   ]
  },
  {
   "cell_type": "markdown",
   "id": "4ceac28c",
   "metadata": {},
   "source": [
    "## FieldPosition"
   ]
  },
  {
   "cell_type": "code",
   "execution_count": 33,
   "id": "33a83b0d",
   "metadata": {},
   "outputs": [
    {
     "data": {
      "text/plain": [
       "array(['NE', 'KC', nan, 'BUF', 'NYJ', 'ATL', 'CHI', 'CIN', 'BLT', 'CLV',\n",
       "       'PIT', 'ARZ', 'DET', 'JAX', 'HST', 'TEN', 'OAK', 'WAS', 'PHI',\n",
       "       'LA', 'IND', 'GB', 'SEA', 'CAR', 'SF', 'DAL', 'NYG', 'NO', 'MIN',\n",
       "       'DEN', 'LAC', 'TB', 'MIA'], dtype=object)"
      ]
     },
     "execution_count": 33,
     "metadata": {},
     "output_type": "execute_result"
    }
   ],
   "source": [
    "train_cat.FieldPosition.unique()"
   ]
  },
  {
   "cell_type": "code",
   "execution_count": 34,
   "id": "d0ec1aec",
   "metadata": {},
   "outputs": [
    {
     "data": {
      "text/plain": [
       "array(['NE', 'KC', 'BUF', 'NYJ', 'ATL', 'CHI', 'CIN', 'BLT', 'CLV', 'PIT',\n",
       "       'ARZ', 'DET', 'JAX', 'HST', 'OAK', 'TEN', 'WAS', 'PHI', 'LA',\n",
       "       'IND', 'SEA', 'GB', 'CAR', 'SF', 'DAL', 'NYG', 'NO', 'MIN', 'DEN',\n",
       "       'LAC', 'TB', 'MIA'], dtype=object)"
      ]
     },
     "execution_count": 34,
     "metadata": {},
     "output_type": "execute_result"
    }
   ],
   "source": [
    "train_cat.PossessionTeam.unique()"
   ]
  },
  {
   "cell_type": "code",
   "execution_count": 35,
   "id": "0afc9ba5",
   "metadata": {},
   "outputs": [],
   "source": [
    "def possession_in_fieldPosition(df):\n",
    "    return df.FieldPosition == df.PossessionTeam"
   ]
  },
  {
   "cell_type": "markdown",
   "id": "9d2e688c",
   "metadata": {},
   "source": [
    "## OffenseFormation"
   ]
  },
  {
   "cell_type": "code",
   "execution_count": 46,
   "id": "05970b07",
   "metadata": {},
   "outputs": [
    {
     "data": {
      "text/plain": [
       "SINGLEBACK    299728\n",
       "SHOTGUN       206558\n",
       "I_FORM        136950\n",
       "PISTOL         21538\n",
       "JUMBO          14894\n",
       "WILDCAT         1694\n",
       "EMPTY            682\n",
       "ACE               22\n",
       "Name: OffenseFormation, dtype: int64"
      ]
     },
     "execution_count": 46,
     "metadata": {},
     "output_type": "execute_result"
    }
   ],
   "source": [
    "train_cat.OffenseFormation.value_counts()"
   ]
  },
  {
   "cell_type": "code",
   "execution_count": null,
   "id": "e43ed6ad",
   "metadata": {},
   "outputs": [],
   "source": []
  }
 ],
 "metadata": {
  "kernelspec": {
   "display_name": "Python 3 (ipykernel)",
   "language": "python",
   "name": "python3"
  },
  "language_info": {
   "codemirror_mode": {
    "name": "ipython",
    "version": 3
   },
   "file_extension": ".py",
   "mimetype": "text/x-python",
   "name": "python",
   "nbconvert_exporter": "python",
   "pygments_lexer": "ipython3",
   "version": "3.8.6"
  },
  "toc": {
   "base_numbering": 1,
   "nav_menu": {},
   "number_sections": true,
   "sideBar": true,
   "skip_h1_title": false,
   "title_cell": "Table of Contents",
   "title_sidebar": "Contents",
   "toc_cell": false,
   "toc_position": {},
   "toc_section_display": true,
   "toc_window_display": false
  }
 },
 "nbformat": 4,
 "nbformat_minor": 5
}
