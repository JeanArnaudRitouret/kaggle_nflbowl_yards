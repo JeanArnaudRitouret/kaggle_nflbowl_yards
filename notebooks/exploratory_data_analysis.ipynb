{
 "cells": [
  {
   "cell_type": "code",
   "execution_count": 2,
   "id": "9b543891",
   "metadata": {},
   "outputs": [],
   "source": [
    "import pandas as pd\n",
    "import numpy as np"
   ]
  },
  {
   "cell_type": "code",
   "execution_count": 3,
   "id": "b41ea1fd",
   "metadata": {},
   "outputs": [],
   "source": [
    "DATA_PATH = '../raw_data'"
   ]
  },
  {
   "cell_type": "code",
   "execution_count": 4,
   "id": "470f6933",
   "metadata": {},
   "outputs": [
    {
     "name": "stderr",
     "output_type": "stream",
     "text": [
      "/home/jeanarnaudritouret/.pyenv/versions/3.8.6/envs/kaggle_nflbowl_yards/lib/python3.8/site-packages/IPython/core/interactiveshell.py:3441: DtypeWarning: Columns (47) have mixed types.Specify dtype option on import or set low_memory=False.\n",
      "  exec(code_obj, self.user_global_ns, self.user_ns)\n"
     ]
    }
   ],
   "source": [
    "train = pd.read_csv(f'{DATA_PATH}/train.csv')"
   ]
  },
  {
   "cell_type": "code",
   "execution_count": 5,
   "id": "ee56b0cb",
   "metadata": {},
   "outputs": [],
   "source": [
    "# how many rows in the training set ? "
   ]
  },
  {
   "cell_type": "code",
   "execution_count": 6,
   "id": "25006aad",
   "metadata": {},
   "outputs": [
    {
     "data": {
      "text/plain": [
       "682154"
      ]
     },
     "execution_count": 6,
     "metadata": {},
     "output_type": "execute_result"
    }
   ],
   "source": [
    "train.shape[0]"
   ]
  },
  {
   "cell_type": "code",
   "execution_count": 7,
   "id": "89138d9b",
   "metadata": {},
   "outputs": [],
   "source": [
    "# how many features and what are they ? "
   ]
  },
  {
   "cell_type": "code",
   "execution_count": 26,
   "id": "f37cc9da",
   "metadata": {},
   "outputs": [],
   "source": [
    "X = train.drop(columns='Yards')\n",
    "y = train.Yards"
   ]
  },
  {
   "cell_type": "code",
   "execution_count": 27,
   "id": "fb68fc44",
   "metadata": {},
   "outputs": [
    {
     "data": {
      "text/plain": [
       "48"
      ]
     },
     "execution_count": 27,
     "metadata": {},
     "output_type": "execute_result"
    }
   ],
   "source": [
    "X.shape[1]"
   ]
  },
  {
   "cell_type": "code",
   "execution_count": 28,
   "id": "3b657e4e",
   "metadata": {},
   "outputs": [
    {
     "data": {
      "text/plain": [
       "object     24\n",
       "int64      14\n",
       "float64    10\n",
       "dtype: int64"
      ]
     },
     "execution_count": 28,
     "metadata": {},
     "output_type": "execute_result"
    }
   ],
   "source": [
    "X.dtypes.value_counts()"
   ]
  },
  {
   "cell_type": "code",
   "execution_count": 29,
   "id": "429b64d8",
   "metadata": {},
   "outputs": [
    {
     "name": "stdout",
     "output_type": "stream",
     "text": [
      "<class 'pandas.core.frame.DataFrame'>\n",
      "RangeIndex: 682154 entries, 0 to 682153\n",
      "Data columns (total 48 columns):\n",
      " #   Column                  Non-Null Count   Dtype  \n",
      "---  ------                  --------------   -----  \n",
      " 0   GameId                  682154 non-null  int64  \n",
      " 1   PlayId                  682154 non-null  int64  \n",
      " 2   Team                    682154 non-null  object \n",
      " 3   X                       682154 non-null  float64\n",
      " 4   Y                       682154 non-null  float64\n",
      " 5   S                       682154 non-null  float64\n",
      " 6   A                       682154 non-null  float64\n",
      " 7   Dis                     682154 non-null  float64\n",
      " 8   Orientation             682131 non-null  float64\n",
      " 9   Dir                     682126 non-null  float64\n",
      " 10  NflId                   682154 non-null  int64  \n",
      " 11  DisplayName             682154 non-null  object \n",
      " 12  JerseyNumber            682154 non-null  int64  \n",
      " 13  Season                  682154 non-null  int64  \n",
      " 14  YardLine                682154 non-null  int64  \n",
      " 15  Quarter                 682154 non-null  int64  \n",
      " 16  GameClock               682154 non-null  object \n",
      " 17  PossessionTeam          682154 non-null  object \n",
      " 18  Down                    682154 non-null  int64  \n",
      " 19  Distance                682154 non-null  int64  \n",
      " 20  FieldPosition           673552 non-null  object \n",
      " 21  HomeScoreBeforePlay     682154 non-null  int64  \n",
      " 22  VisitorScoreBeforePlay  682154 non-null  int64  \n",
      " 23  NflIdRusher             682154 non-null  int64  \n",
      " 24  OffenseFormation        682066 non-null  object \n",
      " 25  OffensePersonnel        682154 non-null  object \n",
      " 26  DefendersInTheBox       682132 non-null  float64\n",
      " 27  DefensePersonnel        682154 non-null  object \n",
      " 28  PlayDirection           682154 non-null  object \n",
      " 29  TimeHandoff             682154 non-null  object \n",
      " 30  TimeSnap                682154 non-null  object \n",
      " 31  PlayerHeight            682154 non-null  object \n",
      " 32  PlayerWeight            682154 non-null  int64  \n",
      " 33  PlayerBirthDate         682154 non-null  object \n",
      " 34  PlayerCollegeName       682154 non-null  object \n",
      " 35  Position                682154 non-null  object \n",
      " 36  HomeTeamAbbr            682154 non-null  object \n",
      " 37  VisitorTeamAbbr         682154 non-null  object \n",
      " 38  Week                    682154 non-null  int64  \n",
      " 39  Stadium                 682154 non-null  object \n",
      " 40  Location                682154 non-null  object \n",
      " 41  StadiumType             640464 non-null  object \n",
      " 42  Turf                    682154 non-null  object \n",
      " 43  GameWeather             621984 non-null  object \n",
      " 44  Temperature             618508 non-null  float64\n",
      " 45  Humidity                675994 non-null  float64\n",
      " 46  WindSpeed               590282 non-null  object \n",
      " 47  WindDirection           577478 non-null  object \n",
      "dtypes: float64(10), int64(14), object(24)\n",
      "memory usage: 249.8+ MB\n"
     ]
    }
   ],
   "source": [
    "X.info()"
   ]
  },
  {
   "cell_type": "code",
   "execution_count": null,
   "id": "689059cf",
   "metadata": {},
   "outputs": [],
   "source": []
  },
  {
   "cell_type": "code",
   "execution_count": 1,
   "id": "898b270f",
   "metadata": {},
   "outputs": [
    {
     "ename": "NameError",
     "evalue": "name 'train' is not defined",
     "output_type": "error",
     "traceback": [
      "\u001b[0;31m---------------------------------------------------------------------------\u001b[0m",
      "\u001b[0;31mNameError\u001b[0m                                 Traceback (most recent call last)",
      "\u001b[0;32m/tmp/ipykernel_21798/2690957756.py\u001b[0m in \u001b[0;36m<module>\u001b[0;34m\u001b[0m\n\u001b[0;32m----> 1\u001b[0;31m \u001b[0mtrain\u001b[0m\u001b[0;34m.\u001b[0m\u001b[0mGameId\u001b[0m\u001b[0;34m.\u001b[0m\u001b[0mnunique\u001b[0m\u001b[0;34m(\u001b[0m\u001b[0;34m)\u001b[0m\u001b[0;34m\u001b[0m\u001b[0;34m\u001b[0m\u001b[0m\n\u001b[0m",
      "\u001b[0;31mNameError\u001b[0m: name 'train' is not defined"
     ]
    }
   ],
   "source": [
    "train.GameId.nunique()"
   ]
  },
  {
   "cell_type": "code",
   "execution_count": 17,
   "id": "0c60031c",
   "metadata": {},
   "outputs": [
    {
     "data": {
      "text/plain": [
       "31007"
      ]
     },
     "execution_count": 17,
     "metadata": {},
     "output_type": "execute_result"
    }
   ],
   "source": [
    "train.PlayId.nunique()"
   ]
  },
  {
   "cell_type": "code",
   "execution_count": 18,
   "id": "6864b51f",
   "metadata": {},
   "outputs": [
    {
     "data": {
      "text/html": [
       "<div>\n",
       "<style scoped>\n",
       "    .dataframe tbody tr th:only-of-type {\n",
       "        vertical-align: middle;\n",
       "    }\n",
       "\n",
       "    .dataframe tbody tr th {\n",
       "        vertical-align: top;\n",
       "    }\n",
       "\n",
       "    .dataframe thead th {\n",
       "        text-align: right;\n",
       "    }\n",
       "</style>\n",
       "<table border=\"1\" class=\"dataframe\">\n",
       "  <thead>\n",
       "    <tr style=\"text-align: right;\">\n",
       "      <th></th>\n",
       "      <th>GameId</th>\n",
       "      <th>PlayId</th>\n",
       "      <th>Team</th>\n",
       "      <th>X</th>\n",
       "      <th>Y</th>\n",
       "      <th>S</th>\n",
       "      <th>A</th>\n",
       "      <th>Dis</th>\n",
       "      <th>Orientation</th>\n",
       "      <th>Dir</th>\n",
       "      <th>...</th>\n",
       "      <th>Week</th>\n",
       "      <th>Stadium</th>\n",
       "      <th>Location</th>\n",
       "      <th>StadiumType</th>\n",
       "      <th>Turf</th>\n",
       "      <th>GameWeather</th>\n",
       "      <th>Temperature</th>\n",
       "      <th>Humidity</th>\n",
       "      <th>WindSpeed</th>\n",
       "      <th>WindDirection</th>\n",
       "    </tr>\n",
       "  </thead>\n",
       "  <tbody>\n",
       "    <tr>\n",
       "      <th>0</th>\n",
       "      <td>2017090700</td>\n",
       "      <td>20170907000118</td>\n",
       "      <td>away</td>\n",
       "      <td>73.91</td>\n",
       "      <td>34.84</td>\n",
       "      <td>1.69</td>\n",
       "      <td>1.13</td>\n",
       "      <td>0.40</td>\n",
       "      <td>81.99</td>\n",
       "      <td>177.18</td>\n",
       "      <td>...</td>\n",
       "      <td>1</td>\n",
       "      <td>Gillette Stadium</td>\n",
       "      <td>Foxborough, MA</td>\n",
       "      <td>Outdoor</td>\n",
       "      <td>Field Turf</td>\n",
       "      <td>Clear and warm</td>\n",
       "      <td>63.0</td>\n",
       "      <td>77.0</td>\n",
       "      <td>8.0</td>\n",
       "      <td>SW</td>\n",
       "    </tr>\n",
       "    <tr>\n",
       "      <th>1</th>\n",
       "      <td>2017090700</td>\n",
       "      <td>20170907000118</td>\n",
       "      <td>away</td>\n",
       "      <td>74.67</td>\n",
       "      <td>32.64</td>\n",
       "      <td>0.42</td>\n",
       "      <td>1.35</td>\n",
       "      <td>0.01</td>\n",
       "      <td>27.61</td>\n",
       "      <td>198.70</td>\n",
       "      <td>...</td>\n",
       "      <td>1</td>\n",
       "      <td>Gillette Stadium</td>\n",
       "      <td>Foxborough, MA</td>\n",
       "      <td>Outdoor</td>\n",
       "      <td>Field Turf</td>\n",
       "      <td>Clear and warm</td>\n",
       "      <td>63.0</td>\n",
       "      <td>77.0</td>\n",
       "      <td>8.0</td>\n",
       "      <td>SW</td>\n",
       "    </tr>\n",
       "    <tr>\n",
       "      <th>2</th>\n",
       "      <td>2017090700</td>\n",
       "      <td>20170907000118</td>\n",
       "      <td>away</td>\n",
       "      <td>74.00</td>\n",
       "      <td>33.20</td>\n",
       "      <td>1.22</td>\n",
       "      <td>0.59</td>\n",
       "      <td>0.31</td>\n",
       "      <td>3.01</td>\n",
       "      <td>202.73</td>\n",
       "      <td>...</td>\n",
       "      <td>1</td>\n",
       "      <td>Gillette Stadium</td>\n",
       "      <td>Foxborough, MA</td>\n",
       "      <td>Outdoor</td>\n",
       "      <td>Field Turf</td>\n",
       "      <td>Clear and warm</td>\n",
       "      <td>63.0</td>\n",
       "      <td>77.0</td>\n",
       "      <td>8.0</td>\n",
       "      <td>SW</td>\n",
       "    </tr>\n",
       "    <tr>\n",
       "      <th>3</th>\n",
       "      <td>2017090700</td>\n",
       "      <td>20170907000118</td>\n",
       "      <td>away</td>\n",
       "      <td>71.46</td>\n",
       "      <td>27.70</td>\n",
       "      <td>0.42</td>\n",
       "      <td>0.54</td>\n",
       "      <td>0.02</td>\n",
       "      <td>359.77</td>\n",
       "      <td>105.64</td>\n",
       "      <td>...</td>\n",
       "      <td>1</td>\n",
       "      <td>Gillette Stadium</td>\n",
       "      <td>Foxborough, MA</td>\n",
       "      <td>Outdoor</td>\n",
       "      <td>Field Turf</td>\n",
       "      <td>Clear and warm</td>\n",
       "      <td>63.0</td>\n",
       "      <td>77.0</td>\n",
       "      <td>8.0</td>\n",
       "      <td>SW</td>\n",
       "    </tr>\n",
       "    <tr>\n",
       "      <th>4</th>\n",
       "      <td>2017090700</td>\n",
       "      <td>20170907000118</td>\n",
       "      <td>away</td>\n",
       "      <td>69.32</td>\n",
       "      <td>35.42</td>\n",
       "      <td>1.82</td>\n",
       "      <td>2.43</td>\n",
       "      <td>0.16</td>\n",
       "      <td>12.63</td>\n",
       "      <td>164.31</td>\n",
       "      <td>...</td>\n",
       "      <td>1</td>\n",
       "      <td>Gillette Stadium</td>\n",
       "      <td>Foxborough, MA</td>\n",
       "      <td>Outdoor</td>\n",
       "      <td>Field Turf</td>\n",
       "      <td>Clear and warm</td>\n",
       "      <td>63.0</td>\n",
       "      <td>77.0</td>\n",
       "      <td>8.0</td>\n",
       "      <td>SW</td>\n",
       "    </tr>\n",
       "  </tbody>\n",
       "</table>\n",
       "<p>5 rows × 49 columns</p>\n",
       "</div>"
      ],
      "text/plain": [
       "       GameId          PlayId  Team      X      Y     S     A   Dis  \\\n",
       "0  2017090700  20170907000118  away  73.91  34.84  1.69  1.13  0.40   \n",
       "1  2017090700  20170907000118  away  74.67  32.64  0.42  1.35  0.01   \n",
       "2  2017090700  20170907000118  away  74.00  33.20  1.22  0.59  0.31   \n",
       "3  2017090700  20170907000118  away  71.46  27.70  0.42  0.54  0.02   \n",
       "4  2017090700  20170907000118  away  69.32  35.42  1.82  2.43  0.16   \n",
       "\n",
       "   Orientation     Dir  ...  Week           Stadium        Location  \\\n",
       "0        81.99  177.18  ...     1  Gillette Stadium  Foxborough, MA   \n",
       "1        27.61  198.70  ...     1  Gillette Stadium  Foxborough, MA   \n",
       "2         3.01  202.73  ...     1  Gillette Stadium  Foxborough, MA   \n",
       "3       359.77  105.64  ...     1  Gillette Stadium  Foxborough, MA   \n",
       "4        12.63  164.31  ...     1  Gillette Stadium  Foxborough, MA   \n",
       "\n",
       "   StadiumType        Turf     GameWeather Temperature Humidity  WindSpeed  \\\n",
       "0      Outdoor  Field Turf  Clear and warm        63.0     77.0        8.0   \n",
       "1      Outdoor  Field Turf  Clear and warm        63.0     77.0        8.0   \n",
       "2      Outdoor  Field Turf  Clear and warm        63.0     77.0        8.0   \n",
       "3      Outdoor  Field Turf  Clear and warm        63.0     77.0        8.0   \n",
       "4      Outdoor  Field Turf  Clear and warm        63.0     77.0        8.0   \n",
       "\n",
       "   WindDirection  \n",
       "0             SW  \n",
       "1             SW  \n",
       "2             SW  \n",
       "3             SW  \n",
       "4             SW  \n",
       "\n",
       "[5 rows x 49 columns]"
      ]
     },
     "execution_count": 18,
     "metadata": {},
     "output_type": "execute_result"
    }
   ],
   "source": [
    "train.head()"
   ]
  },
  {
   "cell_type": "code",
   "execution_count": 34,
   "id": "e456d3fa",
   "metadata": {},
   "outputs": [
    {
     "name": "stdout",
     "output_type": "stream",
     "text": [
      "<class 'pandas.core.frame.DataFrame'>\n",
      "Int64Index: 22 entries, 0 to 21\n",
      "Data columns (total 49 columns):\n",
      " #   Column                  Non-Null Count  Dtype  \n",
      "---  ------                  --------------  -----  \n",
      " 0   GameId                  22 non-null     int64  \n",
      " 1   PlayId                  22 non-null     int64  \n",
      " 2   Team                    22 non-null     object \n",
      " 3   X                       22 non-null     float64\n",
      " 4   Y                       22 non-null     float64\n",
      " 5   S                       22 non-null     float64\n",
      " 6   A                       22 non-null     float64\n",
      " 7   Dis                     22 non-null     float64\n",
      " 8   Orientation             22 non-null     float64\n",
      " 9   Dir                     22 non-null     float64\n",
      " 10  NflId                   22 non-null     int64  \n",
      " 11  DisplayName             22 non-null     object \n",
      " 12  JerseyNumber            22 non-null     int64  \n",
      " 13  Season                  22 non-null     int64  \n",
      " 14  YardLine                22 non-null     int64  \n",
      " 15  Quarter                 22 non-null     int64  \n",
      " 16  GameClock               22 non-null     object \n",
      " 17  PossessionTeam          22 non-null     object \n",
      " 18  Down                    22 non-null     int64  \n",
      " 19  Distance                22 non-null     int64  \n",
      " 20  FieldPosition           22 non-null     object \n",
      " 21  HomeScoreBeforePlay     22 non-null     int64  \n",
      " 22  VisitorScoreBeforePlay  22 non-null     int64  \n",
      " 23  NflIdRusher             22 non-null     int64  \n",
      " 24  OffenseFormation        22 non-null     object \n",
      " 25  OffensePersonnel        22 non-null     object \n",
      " 26  DefendersInTheBox       22 non-null     float64\n",
      " 27  DefensePersonnel        22 non-null     object \n",
      " 28  PlayDirection           22 non-null     object \n",
      " 29  TimeHandoff             22 non-null     object \n",
      " 30  TimeSnap                22 non-null     object \n",
      " 31  Yards                   22 non-null     int64  \n",
      " 32  PlayerHeight            22 non-null     object \n",
      " 33  PlayerWeight            22 non-null     int64  \n",
      " 34  PlayerBirthDate         22 non-null     object \n",
      " 35  PlayerCollegeName       22 non-null     object \n",
      " 36  Position                22 non-null     object \n",
      " 37  HomeTeamAbbr            22 non-null     object \n",
      " 38  VisitorTeamAbbr         22 non-null     object \n",
      " 39  Week                    22 non-null     int64  \n",
      " 40  Stadium                 22 non-null     object \n",
      " 41  Location                22 non-null     object \n",
      " 42  StadiumType             22 non-null     object \n",
      " 43  Turf                    22 non-null     object \n",
      " 44  GameWeather             22 non-null     object \n",
      " 45  Temperature             22 non-null     float64\n",
      " 46  Humidity                22 non-null     float64\n",
      " 47  WindSpeed               22 non-null     object \n",
      " 48  WindDirection           22 non-null     object \n",
      "dtypes: float64(10), int64(15), object(24)\n",
      "memory usage: 8.6+ KB\n"
     ]
    }
   ],
   "source": [
    "train[(train.GameId == 2017090700) & (train.PlayId == 20170907000118)].info()"
   ]
  },
  {
   "cell_type": "code",
   "execution_count": 30,
   "id": "d7dcb979",
   "metadata": {
    "scrolled": true
   },
   "outputs": [
    {
     "data": {
      "text/plain": [
       "0     29\n",
       "1     97\n",
       "2     50\n",
       "3     56\n",
       "4     38\n",
       "5     55\n",
       "6     39\n",
       "7     23\n",
       "8     49\n",
       "9     22\n",
       "10    95\n",
       "11    80\n",
       "12    87\n",
       "13    61\n",
       "14    77\n",
       "15    12\n",
       "16    15\n",
       "17    14\n",
       "18    28\n",
       "19    69\n",
       "20    60\n",
       "21    62\n",
       "Name: JerseyNumber, dtype: int64"
      ]
     },
     "execution_count": 30,
     "metadata": {},
     "output_type": "execute_result"
    }
   ],
   "source": [
    "train[(train.GameId == 2017090700) & (train.PlayId == 20170907000118)].JerseyNumber"
   ]
  },
  {
   "cell_type": "code",
   "execution_count": 35,
   "id": "9f64a3f3",
   "metadata": {},
   "outputs": [
    {
     "data": {
      "text/plain": [
       "0     2543773\n",
       "1     2543773\n",
       "2     2543773\n",
       "3     2543773\n",
       "4     2543773\n",
       "5     2543773\n",
       "6     2543773\n",
       "7     2543773\n",
       "8     2543773\n",
       "9     2543773\n",
       "10    2543773\n",
       "11    2543773\n",
       "12    2543773\n",
       "13    2543773\n",
       "14    2543773\n",
       "15    2543773\n",
       "16    2543773\n",
       "17    2543773\n",
       "18    2543773\n",
       "19    2543773\n",
       "20    2543773\n",
       "21    2543773\n",
       "Name: NflIdRusher, dtype: int64"
      ]
     },
     "execution_count": 35,
     "metadata": {},
     "output_type": "execute_result"
    }
   ],
   "source": [
    "train[(train.GameId == 2017090700) & (train.PlayId == 20170907000118)].NflIdRusher "
   ]
  },
  {
   "cell_type": "code",
   "execution_count": null,
   "id": "2004c30a",
   "metadata": {},
   "outputs": [],
   "source": []
  }
 ],
 "metadata": {
  "kernelspec": {
   "display_name": "Python 3 (ipykernel)",
   "language": "python",
   "name": "python3"
  },
  "language_info": {
   "codemirror_mode": {
    "name": "ipython",
    "version": 3
   },
   "file_extension": ".py",
   "mimetype": "text/x-python",
   "name": "python",
   "nbconvert_exporter": "python",
   "pygments_lexer": "ipython3",
   "version": "3.8.6"
  },
  "toc": {
   "base_numbering": 1,
   "nav_menu": {},
   "number_sections": true,
   "sideBar": true,
   "skip_h1_title": false,
   "title_cell": "Table of Contents",
   "title_sidebar": "Contents",
   "toc_cell": false,
   "toc_position": {},
   "toc_section_display": true,
   "toc_window_display": false
  }
 },
 "nbformat": 4,
 "nbformat_minor": 5
}
