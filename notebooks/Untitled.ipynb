{
 "cells": [
  {
   "cell_type": "code",
   "execution_count": 2,
   "id": "adc7678a",
   "metadata": {},
   "outputs": [
    {
     "data": {
      "text/plain": [
       "\"\\n10 min\\nImplement a group_by_owners function that:\\n    Accepts a dictionary containing the file owner name for each file name.\\n    Returns a dictionary containing a list of file names for each owner name, in any order.\\nFor example, for dictionary {'Input.txt': 'Randy', 'Code.py': 'Stan', 'Output.txt': 'Randy'}\\nthe group_by_owners function should return {'Randy': ['Input.txt', 'Output.txt'], 'Stan': ['Code.py']}.\\n    def group_by_owners(files):\\n        return None\\n    files = {\\n        'Input.txt': 'Randy',\\n        'Code.py': 'Stan',\\n        'Output.txt': 'Randy'\\n    }\\n    print(group_by_owners(files))\\n\""
      ]
     },
     "execution_count": 2,
     "metadata": {},
     "output_type": "execute_result"
    }
   ],
   "source": [
    "\"\"\"\n",
    "10 min\n",
    "Implement a group_by_owners function that:\n",
    "    Accepts a dictionary containing the file owner name for each file name.\n",
    "    Returns a dictionary containing a list of file names for each owner name, in any order.\n",
    "\n",
    "For example, for dictionary {'Input.txt': 'Randy', 'Code.py': 'Stan', 'Output.txt': 'Randy'}\n",
    "\n",
    "the group_by_owners function should return {'Randy': ['Input.txt', 'Output.txt'], 'Stan': ['Code.py']}.\n",
    "    \n",
    "    def group_by_owners(files):\n",
    "        return None\n",
    "    \n",
    "    files = {\n",
    "        'Input.txt': 'Randy',\n",
    "        'Code.py': 'Stan',\n",
    "        'Output.txt': 'Randy'\n",
    "    }\n",
    "    \n",
    "    print(group_by_owners(files))\n",
    "\"\"\""
   ]
  },
  {
   "cell_type": "code",
   "execution_count": 8,
   "id": "a8231c88",
   "metadata": {},
   "outputs": [],
   "source": [
    "files = {\n",
    "        'Input.txt': 'Randy',\n",
    "        'Code.py': 'Stan',\n",
    "        'Output.txt': 'Randy'\n",
    "    }"
   ]
  },
  {
   "cell_type": "code",
   "execution_count": 24,
   "id": "cab2d2d4",
   "metadata": {},
   "outputs": [],
   "source": [
    "def group_by_owners(files):\n",
    "    dict_return = {}\n",
    "    for key, value in files.items():\n",
    "        if value in dict_return: \n",
    "            dict_return[value].append(key)\n",
    "        else: \n",
    "            dict_return[value] = [key]\n",
    "    return dict_return"
   ]
  },
  {
   "cell_type": "code",
   "execution_count": 25,
   "id": "ae3f0684",
   "metadata": {},
   "outputs": [
    {
     "data": {
      "text/plain": [
       "{'Randy': ['Input.txt', 'Output.txt'], 'Stan': ['Code.py']}"
      ]
     },
     "execution_count": 25,
     "metadata": {},
     "output_type": "execute_result"
    }
   ],
   "source": [
    "group_by_owners(files)"
   ]
  },
  {
   "cell_type": "markdown",
   "id": "f0d00409",
   "metadata": {},
   "source": [
    "# Python test question 2"
   ]
  },
  {
   "cell_type": "code",
   "execution_count": null,
   "id": "6068d10a",
   "metadata": {},
   "outputs": [],
   "source": [
    "\"\"\"\n",
    "10 min\n",
    "\n",
    "Implement the IceCreamMachine's scoops method so that it returns all\n",
    "combinations of one ingredient and one topping. If there are no ingredients or\n",
    "toppings, the method should return an empty list.\n",
    "\n",
    "For example,\n",
    "IceCreamMachine([\"vanilla\", \"chocolate\"], [\"chocolate sauce\"]).scoops()\n",
    "\n",
    "should return\n",
    "[['vanilla', 'chocolate sauce'], ['chocolate', 'chocolate sauce']].\n",
    "    \n",
    "    class IceCreamMachine:\n",
    "        def __init__(self, ingredients, toppings):\n",
    "            self.ingredients = ingredients\n",
    "            self.toppings = toppings\n",
    "        def scoops(self):\n",
    "            pass\n",
    "    \n",
    "    machine = IceCreamMachine([\"vanilla\", \"chocolate\"], [\"chocolate sauce\"])\n",
    "    \n",
    "    print(machine.scoops()) #should print[['vanilla', 'chocolate sauce'], ['chocolate', 'chocolate sauce']]\n",
    "\"\"\""
   ]
  },
  {
   "cell_type": "code",
   "execution_count": 71,
   "id": "8c048c4e",
   "metadata": {},
   "outputs": [],
   "source": [
    "    import itertools\n",
    "    class IceCreamMachine:\n",
    "        \n",
    "        def __init__(self, ingredients, toppings):\n",
    "            self.ingredients = ingredients\n",
    "            self.toppings = toppings\n",
    "        def scoops(self):\n",
    "            scoops = list(itertools.product(self.ingredients, self.toppings))\n",
    "            return [list(scoop) for scoop in scoops]"
   ]
  },
  {
   "cell_type": "code",
   "execution_count": 72,
   "id": "ae772b8f",
   "metadata": {},
   "outputs": [],
   "source": [
    "machine = IceCreamMachine([\"vanilla\", \"chocolate\"], [\"chocolate sauce\"])\n"
   ]
  },
  {
   "cell_type": "code",
   "execution_count": 73,
   "id": "41b4bc1d",
   "metadata": {},
   "outputs": [
    {
     "data": {
      "text/plain": [
       "[['vanilla', 'chocolate sauce'], ['chocolate', 'chocolate sauce']]"
      ]
     },
     "execution_count": 73,
     "metadata": {},
     "output_type": "execute_result"
    }
   ],
   "source": [
    "machine.scoops()"
   ]
  },
  {
   "cell_type": "code",
   "execution_count": 78,
   "id": "0a64c45f",
   "metadata": {},
   "outputs": [],
   "source": [
    "a = itertools.product([\"vanilla\", \"chocolate\"], [\"chocolate sauce\"])"
   ]
  },
  {
   "cell_type": "code",
   "execution_count": 81,
   "id": "f58da0c6",
   "metadata": {},
   "outputs": [
    {
     "data": {
      "text/plain": [
       "[('vanilla', 'chocolate sauce'), ('chocolate', 'chocolate sauce')]"
      ]
     },
     "execution_count": 81,
     "metadata": {},
     "output_type": "execute_result"
    }
   ],
   "source": [
    "list(a)"
   ]
  },
  {
   "cell_type": "markdown",
   "id": "349275cc",
   "metadata": {},
   "source": [
    "# Python test Question 3"
   ]
  },
  {
   "cell_type": "code",
   "execution_count": null,
   "id": "4d5d5985",
   "metadata": {},
   "outputs": [],
   "source": [
    "\"\"\"\n",
    "10 min\n",
    "Implement the unique_names method. When passed two arrays of names, it will\n",
    "return an array containing the names that appear in either or both arrays.\n",
    "The returned array should have no duplicates.\n",
    "\n",
    "For example, calling unique_names(['Ava', 'Emma', 'Olivia'], ['Olivia', 'Sophia', 'Emma'])\n",
    "\n",
    "should return an array containing Ava, Emma, Olivia, and Sophia in any order.\n",
    "\n",
    "def unique_names(names1, names2):\n",
    "        return None\n",
    "    names1 = [\"Ava\", \"Emma\", \"Olivia\"]\n",
    "    names2 = [\"Olivia\", \"Sophia\", \"Emma\"]\n",
    "    print(unique_names(names1, names2)) # should print Ava, Emma, Olivia, Sophia\n",
    "\"\"\""
   ]
  },
  {
   "cell_type": "code",
   "execution_count": 87,
   "id": "6a6facf6",
   "metadata": {},
   "outputs": [],
   "source": [
    "def unique_names(names1, names2):\n",
    "    return list(set(names1 + names2))\n"
   ]
  },
  {
   "cell_type": "code",
   "execution_count": 88,
   "id": "5a99f13f",
   "metadata": {},
   "outputs": [
    {
     "name": "stdout",
     "output_type": "stream",
     "text": [
      "['Olivia', 'Sophia', 'Ava', 'Emma']\n"
     ]
    }
   ],
   "source": [
    "names1 = [\"Ava\", \"Emma\", \"Olivia\"]\n",
    "names2 = [\"Olivia\", \"Sophia\", \"Emma\"]\n",
    "print(unique_names(names1, names2)) # should print Ava, Emma, Olivia, Sophia"
   ]
  },
  {
   "cell_type": "markdown",
   "id": "b90ba752",
   "metadata": {},
   "source": [
    "# Python test Question 4"
   ]
  },
  {
   "cell_type": "code",
   "execution_count": null,
   "id": "8c73a3d9",
   "metadata": {},
   "outputs": [],
   "source": [
    "\"\"\"\n",
    "10 min\n",
    "A palindrome is a word that reads the same backward or forward.\n",
    "Write a function that checks if a given word is a palindrome. Character case should be ignored.\n",
    "\n",
    "For example, is_palindrome(\"Deleveled\") should return True as character case\n",
    "\n",
    "should be ignored, resulting in \"deleveled\", which is a palindrome since it reads the same backward and forward.\n",
    "    \n",
    "    def is_palindrome(word):\n",
    "        return None\n",
    "    print(is_palindrome('Deleveled'))\n",
    "\"\"\""
   ]
  },
  {
   "cell_type": "code",
   "execution_count": 93,
   "id": "2afae4e2",
   "metadata": {},
   "outputs": [
    {
     "name": "stdout",
     "output_type": "stream",
     "text": [
      "True\n"
     ]
    }
   ],
   "source": [
    "def is_palindrome(word):\n",
    "    return word.lower() == word[::-1].lower()\n",
    "print(is_palindrome('Deleveled'))"
   ]
  },
  {
   "cell_type": "markdown",
   "id": "4a090612",
   "metadata": {},
   "source": [
    "# Python test Question 5"
   ]
  },
  {
   "cell_type": "code",
   "execution_count": null,
   "id": "20d88b64",
   "metadata": {},
   "outputs": [],
   "source": [
    "\"\"\"\n",
    "15 min\n",
    "Binary search tree (BST) is a binary tree where the value of each node is larger\n",
    "or equal to the values in all the nodes in that node's left subtree and is\n",
    "smaller than the values in all the nodes in that node's right subtree.\n",
    "\n",
    "Write a function that, efficiently with respect to time used, checks if a given\n",
    "binary search tree contains a given value.\n",
    "\n",
    "For example, for the following tree:\n",
    "    n1 (Value: 1, Left: null, Right: null)\n",
    "    n2 (Value: 2, Left: n1, Right: n3)\n",
    "    n3 (Value: 3, Left: null, Right: null)\n",
    "    \n",
    "Call to contains(n2, 3) should return True since a tree with root at n2 contains number 3.\n",
    "    import collections\n",
    "    Node = collections.namedtuple('Node', ['left', 'right', 'value'])\n",
    "    def contains(root, value):\n",
    "        pass\n",
    "    n1 = Node(value=1, left=None, right=None)\n",
    "    n3 = Node(value=3, left=None, right=None)\n",
    "    n2 = Node(value=2, left=n1, right=n3)\n",
    "    print(contains(n2, 3))\n",
    "\"\"\""
   ]
  },
  {
   "cell_type": "code",
   "execution_count": 95,
   "id": "f1be10b2",
   "metadata": {},
   "outputs": [],
   "source": [
    "import collections\n",
    "Node = collections.namedtuple('Node', ['left', 'right', 'value'])"
   ]
  },
  {
   "cell_type": "code",
   "execution_count": 96,
   "id": "818e5e0c",
   "metadata": {},
   "outputs": [
    {
     "data": {
      "text/plain": [
       "__main__.Node"
      ]
     },
     "execution_count": 96,
     "metadata": {},
     "output_type": "execute_result"
    }
   ],
   "source": [
    "Node"
   ]
  },
  {
   "cell_type": "code",
   "execution_count": 107,
   "id": "31061c59",
   "metadata": {},
   "outputs": [],
   "source": [
    "def contains(root, value):\n",
    "    return value in [root.value,root.left.value,root.right.value]"
   ]
  },
  {
   "cell_type": "code",
   "execution_count": 108,
   "id": "cd42973e",
   "metadata": {},
   "outputs": [],
   "source": [
    "n1 = Node(value=1, left=None, right=None)\n",
    "n3 = Node(value=3, left=None, right=None)\n",
    "n2 = Node(value=2, left=n1, right=n3)"
   ]
  },
  {
   "cell_type": "code",
   "execution_count": 109,
   "id": "14a0962e",
   "metadata": {},
   "outputs": [
    {
     "name": "stdout",
     "output_type": "stream",
     "text": [
      "True\n"
     ]
    }
   ],
   "source": [
    "print(contains(n2, 3))"
   ]
  },
  {
   "cell_type": "code",
   "execution_count": 111,
   "id": "c767d86f",
   "metadata": {},
   "outputs": [],
   "source": [
    "# Python test Question 6"
   ]
  },
  {
   "cell_type": "code",
   "execution_count": 112,
   "id": "dab4350d",
   "metadata": {},
   "outputs": [
    {
     "data": {
      "text/plain": [
       "'\\n15 min\\n\\nA playlist is considered a repeating playlist if any of the songs contain\\na reference to a previous song in the playlist. Otherwise, the playlist will end\\nwith the last song which points to None.\\nImplement a function is_repeating_playlist that, efficiently with respect to\\ntime used, returns true if a playlist is repeating or false if it is not.\\n\\nFor example, the following code prints \"True\" as both songs point to each other.\\n    \\n    first = Song(\"Hello\")\\n    second = Song(\"Eye of the tiger\")\\n    \\n    first.next_song(second);\\n    second.next_song(first);\\n    \\n    print(first.is_repeating_playlist())\\n    \\n    class Song:\\n        def __init__(self, name):\\n            self.name = name\\n            self.next = None\\n        def next_song(self, song):\\n            self.next = song\\n        def is_repeating_playlist(self):\\n            return None\\n    \\n    first = Song(\"Hello\")\\n    second = Song(\"Eye of the tiger\")\\n    \\n    first.next_song(second);\\n    second.next_song(first);\\n    \\n    print(first.is_repeating_playlist())\\n'"
      ]
     },
     "execution_count": 112,
     "metadata": {},
     "output_type": "execute_result"
    }
   ],
   "source": [
    "\"\"\"\n",
    "15 min\n",
    "\n",
    "A playlist is considered a repeating playlist if any of the songs contain\n",
    "a reference to a previous song in the playlist. Otherwise, the playlist will end\n",
    "with the last song which points to None.\n",
    "Implement a function is_repeating_playlist that, efficiently with respect to\n",
    "time used, returns true if a playlist is repeating or false if it is not.\n",
    "\n",
    "For example, the following code prints \"True\" as both songs point to each other.\n",
    "    \n",
    "    first = Song(\"Hello\")\n",
    "    second = Song(\"Eye of the tiger\")\n",
    "    \n",
    "    first.next_song(second);\n",
    "    second.next_song(first);\n",
    "    \n",
    "    print(first.is_repeating_playlist())\n",
    "    \n",
    "    class Song:\n",
    "        def __init__(self, name):\n",
    "            self.name = name\n",
    "            self.next = None\n",
    "        def next_song(self, song):\n",
    "            self.next = song\n",
    "        def is_repeating_playlist(self):\n",
    "            return None\n",
    "    \n",
    "    first = Song(\"Hello\")\n",
    "    second = Song(\"Eye of the tiger\")\n",
    "    \n",
    "    first.next_song(second);\n",
    "    second.next_song(first);\n",
    "    \n",
    "    print(first.is_repeating_playlist())\n",
    "\"\"\""
   ]
  },
  {
   "cell_type": "code",
   "execution_count": 115,
   "id": "bc2d728a",
   "metadata": {},
   "outputs": [],
   "source": [
    "class Song:\n",
    "        def __init__(self, name):\n",
    "            self.name = name\n",
    "            self.next = None\n",
    "        def next_song(self, song):\n",
    "            self.next = song\n",
    "        def is_repeating_playlist(self):\n",
    "            next_song = self.next\n",
    "            while next_song is not None:\n",
    "                if next_song.name == self.name:\n",
    "                    return True\n",
    "                next_song = next_song.next\n",
    "            return False"
   ]
  },
  {
   "cell_type": "code",
   "execution_count": 118,
   "id": "98c601b6",
   "metadata": {},
   "outputs": [
    {
     "name": "stdout",
     "output_type": "stream",
     "text": [
      "True\n"
     ]
    }
   ],
   "source": [
    "first = Song(\"Hello\")\n",
    "second = Song(\"Eye of the tiger\")\n",
    "third = Song(\"Can you feel the fire\")\n",
    "\n",
    "first.next_song(second)\n",
    "second.next_song(third)\n",
    "third.next_song(first)\n",
    "\n",
    "print(first.is_repeating_playlist())"
   ]
  },
  {
   "cell_type": "markdown",
   "id": "99259be0",
   "metadata": {},
   "source": [
    "# Python test Question 7"
   ]
  },
  {
   "cell_type": "code",
   "execution_count": null,
   "id": "d2d1925a",
   "metadata": {},
   "outputs": [],
   "source": [
    "\"\"\"\n",
    "30 min\n",
    "Write a function that, when passed a list and a target sum, returns, efficiently\n",
    "with respect to time used, two distinct zero-based indices of any two of the\n",
    "numbers, whose sum is equal to the target sum. If there are no two numbers,\n",
    "the function should return None.\n",
    "\n",
    "For example, find_two_sum([3, 1, 5, 7, 5, 9], 10) should return a single tuple containing any of the following pairs of indices:\n",
    "* 0 and 3 (or 3 and 0) as 3 + 7 = 10\n",
    "* 1 and 5 (or 5 and 1) as 1 + 9 = 10\n",
    "* 2 and 4 (or 4 and 2) as 5 + 5 = 10\n",
    "\n",
    "def find_two_sum(numbers, target_sum):\n",
    "    # :param numbers: (list of ints) The list of numbers.\n",
    "    # :param target_sum: (int) The required target sum.\n",
    "    # :returns: (a tuple of 2 ints) The indices of the two elements whose sum is equal to target_sum\n",
    "    return None\n",
    "print(find_two_sum([3, 1, 5, 7, 5, 9], 10))\n",
    "\"\"\""
   ]
  },
  {
   "cell_type": "code",
   "execution_count": 123,
   "id": "2cec5347",
   "metadata": {},
   "outputs": [
    {
     "name": "stdout",
     "output_type": "stream",
     "text": [
      "+1\n",
      "+1\n",
      "+1\n",
      "+1\n",
      "+1\n",
      "+1\n",
      "+1\n",
      "+1\n",
      "+1\n",
      "+1\n",
      "+1\n",
      "+1\n",
      "+1\n",
      "+1\n",
      "(3, 5)\n"
     ]
    }
   ],
   "source": [
    "def find_two_sum(numbers, target_sum):\n",
    "    for i1,n1 in enumerate(numbers[:-1]):\n",
    "        for i2,n2 in enumerate(numbers[i1+1:]):\n",
    "            print('+1')\n",
    "            if n1+n2 == target_sum: \n",
    "                return (i1,i1+1+i2)\n",
    "    return None\n",
    "\n",
    "print(find_two_sum([3, 1, 5, 7, 5, 9], 16))\n"
   ]
  },
  {
   "cell_type": "code",
   "execution_count": 128,
   "id": "84aff29e",
   "metadata": {},
   "outputs": [],
   "source": [
    "def find_two_sum(numbers, target_sum):\n",
    "    for i1,n1 in enumerate(numbers[:-1]):\n",
    "        print('+1')\n",
    "        if (target_sum - n1) in numbers[i1+1:]:\n",
    "            return (i1, i1 + 1 + numbers[i1+1:].index(target_sum - n1))\n",
    "    return None\n"
   ]
  },
  {
   "cell_type": "code",
   "execution_count": 131,
   "id": "2df9573c",
   "metadata": {},
   "outputs": [
    {
     "name": "stdout",
     "output_type": "stream",
     "text": [
      "+1\n",
      "(0, 3)\n"
     ]
    }
   ],
   "source": [
    "print(find_two_sum([3, 1, 5, 7, 5, 9], 10))"
   ]
  },
  {
   "cell_type": "markdown",
   "id": "ac03457e",
   "metadata": {},
   "source": [
    "# Python test Question 8"
   ]
  },
  {
   "cell_type": "code",
   "execution_count": null,
   "id": "19c35296",
   "metadata": {},
   "outputs": [],
   "source": [
    "\"\"\"\n",
    "10 min\n",
    "As part of a data processing pipeline, complete the implementation of\n",
    "\n",
    "the pipeline method:\n",
    "\n",
    "* The method should accept a variable number of functions, and it should return\n",
    "  a new function that accepts one parameter arg.\n",
    "\n",
    "* The returned function should call the first function in the pipeline with\n",
    "  the parameter arg, and call the second function with the result of the first function.\n",
    "\n",
    "* The returned function should continue calling each function in the pipeline\n",
    "  in order, following the same pattern, and return the value from the last function.\n",
    "\n",
    "For example, pipeline(lambda x: x * 3, lambda x: x + 1, lambda x: x / 2) then calling the returned function with 3 \n",
    "should return 5.0.\n",
    "    \n",
    "    def pipeline(*funcs):\n",
    "        def helper(arg):\n",
    "            pass\n",
    "        return helper\n",
    "    \n",
    "    fun = pipeline(lambda x: x * 3, lambda x: x + 1, lambda x: x / 2)\n",
    "    \n",
    "    print(fun(3)) #should print 5.0\n",
    "\"\"\""
   ]
  },
  {
   "cell_type": "code",
   "execution_count": 135,
   "id": "b6871141",
   "metadata": {},
   "outputs": [],
   "source": [
    "def pipeline(*funcs):\n",
    "    def helper(arg):\n",
    "        for f in funcs:\n",
    "            arg = f(arg)\n",
    "        return arg\n",
    "\n",
    "    return helper"
   ]
  },
  {
   "cell_type": "code",
   "execution_count": 136,
   "id": "e2a965ef",
   "metadata": {},
   "outputs": [
    {
     "name": "stdout",
     "output_type": "stream",
     "text": [
      "5.0\n"
     ]
    }
   ],
   "source": [
    "fun = pipeline(lambda x: x * 3, lambda x: x + 1, lambda x: x / 2)\n",
    "    \n",
    "print(fun(3)) #should print 5.0"
   ]
  },
  {
   "cell_type": "markdown",
   "id": "888dfc1f",
   "metadata": {},
   "source": [
    "# Python test Question 9"
   ]
  },
  {
   "cell_type": "code",
   "execution_count": null,
   "id": "b3b88f59",
   "metadata": {},
   "outputs": [],
   "source": [
    "\"\"\"\n",
    "20 min\n",
    "The LeagueTable class tracks the score of each player in a league. After each\n",
    "game, the player records their score with the record_result function.\n",
    "\n",
    "The player's rank in the league is calculated using the following logic:\n",
    "* The player with the highest score is ranked first (rank 1). The player with the lowest score is ranked last.\n",
    "* If two players are tied on score, then the player who has played the fewest games is ranked higher.\n",
    "* If two players are tied on score and number of games played,\n",
    "  then the player who was first in the list of players is ranked higher.\n",
    "\n",
    "Implement the player_rank function that returns the player at the given rank.\n",
    "\n",
    "For example:\n",
    "table = LeagueTable(['Mike', 'Chris', 'Arnold'])\n",
    "table.record_result('Mike', 2)\n",
    "table.record_result('Mike', 3)\n",
    "table.record_result('Arnold', 5)\n",
    "table.record_result('Chris', 5)\n",
    "print(table.player_rank(1))\n",
    "\n",
    "All players have the same score. However, Arnold and Chris have played fewer\n",
    "games than Mike, and as Chris is before Arnold in the list of players, he is\n",
    "ranked first. Therefore, the code above should display \"Chris\".\n",
    "\n",
    "from collections import Counter\n",
    "from collections import OrderedDict\n",
    "\n",
    "class LeagueTable:\n",
    "    def __init__(self, players):\n",
    "        self.standings = OrderedDict([(player, Counter()) for player in players])\n",
    "    def record_result(self, player, score):\n",
    "        self.standings[player]['games_played'] += 1\n",
    "        self.standings[player]['score'] += score\n",
    "    def player_rank(self, rank):\n",
    "        return None\n",
    "\n",
    "table = LeagueTable(['Mike', 'Chris', 'Arnold'])\n",
    "table.record_result('Mike', 2)\n",
    "table.record_result('Mike', 3)\n",
    "table.record_result('Arnold', 5)\n",
    "table.record_result('Chris', 5)\n",
    "print(table.player_rank(1))\n",
    "\"\"\""
   ]
  },
  {
   "cell_type": "code",
   "execution_count": null,
   "id": "f375bab7",
   "metadata": {},
   "outputs": [],
   "source": [
    "from collections import Counter\n",
    "from collections import OrderedDict\n",
    "\n",
    "class LeagueTable:\n",
    "    def __init__(self, players):\n",
    "        self.standings = OrderedDict([(player, Counter()) for player in players])\n",
    "    def record_result(self, player, score):\n",
    "        self.standings[player]['games_played'] += 1\n",
    "        self.standings[player]['score'] += score\n",
    "    def player_rank(self, rank):\n",
    "        ranks = [()for i_dict,(player,counter) in enumerate(self.standings.items())]\n",
    "        \n",
    "        return None"
   ]
  },
  {
   "cell_type": "code",
   "execution_count": 8,
   "id": "8ee705c5",
   "metadata": {},
   "outputs": [
    {
     "name": "stdout",
     "output_type": "stream",
     "text": [
      "4\n"
     ]
    }
   ],
   "source": [
    "def minimal_number_of_packages(items, available_large_packages, available_small_packages):\n",
    "    used_large_packages = min(int(items//5),available_large_packages)\n",
    "    used_small_packages = items - used_large_packages*5\n",
    "    return used_large_packages + used_small_packages\n",
    "    \n",
    "print(minimal_number_of_packages(16, 3, 10))"
   ]
  },
  {
   "cell_type": "code",
   "execution_count": 6,
   "id": "5db15fb6",
   "metadata": {},
   "outputs": [
    {
     "data": {
      "text/plain": [
       "3"
      ]
     },
     "execution_count": 6,
     "metadata": {},
     "output_type": "execute_result"
    }
   ],
   "source": [
    "16//5"
   ]
  },
  {
   "cell_type": "code",
   "execution_count": null,
   "id": "41c99c5e",
   "metadata": {},
   "outputs": [],
   "source": []
  }
 ],
 "metadata": {
  "kernelspec": {
   "display_name": "Python 3 (ipykernel)",
   "language": "python",
   "name": "python3"
  },
  "language_info": {
   "codemirror_mode": {
    "name": "ipython",
    "version": 3
   },
   "file_extension": ".py",
   "mimetype": "text/x-python",
   "name": "python",
   "nbconvert_exporter": "python",
   "pygments_lexer": "ipython3",
   "version": "3.8.6"
  },
  "toc": {
   "base_numbering": 1,
   "nav_menu": {},
   "number_sections": true,
   "sideBar": true,
   "skip_h1_title": false,
   "title_cell": "Table of Contents",
   "title_sidebar": "Contents",
   "toc_cell": false,
   "toc_position": {},
   "toc_section_display": true,
   "toc_window_display": false
  }
 },
 "nbformat": 4,
 "nbformat_minor": 5
}
