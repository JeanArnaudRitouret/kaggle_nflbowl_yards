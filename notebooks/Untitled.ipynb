{
 "cells": [
  {
   "cell_type": "code",
   "execution_count": 1,
   "id": "30c9fa2e",
   "metadata": {},
   "outputs": [],
   "source": [
    "import requests "
   ]
  },
  {
   "cell_type": "code",
   "execution_count": 2,
   "id": "2f07d0ac",
   "metadata": {},
   "outputs": [],
   "source": [
    "response = requests.get(\"https://www.metaweather.com/api/location/44418/\").json()"
   ]
  },
  {
   "cell_type": "code",
   "execution_count": 4,
   "id": "a39ae73f",
   "metadata": {},
   "outputs": [
    {
     "data": {
      "text/plain": [
       "dict_keys(['consolidated_weather', 'time', 'sun_rise', 'sun_set', 'timezone_name', 'parent', 'sources', 'title', 'location_type', 'woeid', 'latt_long', 'timezone'])"
      ]
     },
     "execution_count": 4,
     "metadata": {},
     "output_type": "execute_result"
    }
   ],
   "source": [
    "response.keys()"
   ]
  },
  {
   "cell_type": "code",
   "execution_count": 10,
   "id": "656d9330",
   "metadata": {},
   "outputs": [
    {
     "data": {
      "text/plain": [
       "'London'"
      ]
     },
     "execution_count": 10,
     "metadata": {},
     "output_type": "execute_result"
    }
   ],
   "source": [
    "response['title']"
   ]
  },
  {
   "cell_type": "code",
   "execution_count": 13,
   "id": "dea10a05",
   "metadata": {},
   "outputs": [],
   "source": [
    "import datetime"
   ]
  },
  {
   "cell_type": "code",
   "execution_count": 17,
   "id": "82099475",
   "metadata": {},
   "outputs": [
    {
     "ename": "AttributeError",
     "evalue": "type object 'datetime.date' has no attribute 'strpdate'",
     "output_type": "error",
     "traceback": [
      "\u001b[0;31m---------------------------------------------------------------------------\u001b[0m",
      "\u001b[0;31mAttributeError\u001b[0m                            Traceback (most recent call last)",
      "\u001b[0;32m/tmp/ipykernel_2426/3922477056.py\u001b[0m in \u001b[0;36m<module>\u001b[0;34m\u001b[0m\n\u001b[0;32m----> 1\u001b[0;31m \u001b[0mdatetime\u001b[0m\u001b[0;34m.\u001b[0m\u001b[0mdate\u001b[0m\u001b[0;34m.\u001b[0m\u001b[0mstrpdate\u001b[0m\u001b[0;34m(\u001b[0m\u001b[0;34m'2021-10-01'\u001b[0m\u001b[0;34m,\u001b[0m\u001b[0;34m'%Y-%m-%d'\u001b[0m\u001b[0;34m)\u001b[0m\u001b[0;34m\u001b[0m\u001b[0;34m\u001b[0m\u001b[0m\n\u001b[0m",
      "\u001b[0;31mAttributeError\u001b[0m: type object 'datetime.date' has no attribute 'strpdate'"
     ]
    }
   ],
   "source": [
    "datetime.date.strpdate('2021-10-01','%Y-%m-%d')"
   ]
  },
  {
   "cell_type": "code",
   "execution_count": 18,
   "id": "d1b5ddc8",
   "metadata": {},
   "outputs": [
    {
     "ename": "AttributeError",
     "evalue": "module 'datetime' has no attribute 'today'",
     "output_type": "error",
     "traceback": [
      "\u001b[0;31m---------------------------------------------------------------------------\u001b[0m",
      "\u001b[0;31mAttributeError\u001b[0m                            Traceback (most recent call last)",
      "\u001b[0;32m/tmp/ipykernel_2426/1598287060.py\u001b[0m in \u001b[0;36m<module>\u001b[0;34m\u001b[0m\n\u001b[0;32m----> 1\u001b[0;31m \u001b[0mdatetime\u001b[0m\u001b[0;34m.\u001b[0m\u001b[0mtoday\u001b[0m\u001b[0;34m(\u001b[0m\u001b[0;34m)\u001b[0m\u001b[0;34m\u001b[0m\u001b[0;34m\u001b[0m\u001b[0m\n\u001b[0m",
      "\u001b[0;31mAttributeError\u001b[0m: module 'datetime' has no attribute 'today'"
     ]
    }
   ],
   "source": [
    "datetime.today()"
   ]
  },
  {
   "cell_type": "code",
   "execution_count": 26,
   "id": "4dbba6d0",
   "metadata": {},
   "outputs": [
    {
     "name": "stdout",
     "output_type": "stream",
     "text": [
      "Requirement already satisfied: requests in /home/jeanarnaudritouret/.pyenv/versions/3.8.6/envs/kaggle_nflbowl_yards/lib/python3.8/site-packages (2.26.0)\n",
      "Requirement already satisfied: idna<4,>=2.5 in /home/jeanarnaudritouret/.pyenv/versions/3.8.6/envs/kaggle_nflbowl_yards/lib/python3.8/site-packages (from requests) (3.2)\n",
      "Requirement already satisfied: urllib3<1.27,>=1.21.1 in /home/jeanarnaudritouret/.pyenv/versions/3.8.6/envs/kaggle_nflbowl_yards/lib/python3.8/site-packages (from requests) (1.26.6)\n",
      "Requirement already satisfied: charset-normalizer~=2.0.0 in /home/jeanarnaudritouret/.pyenv/versions/3.8.6/envs/kaggle_nflbowl_yards/lib/python3.8/site-packages (from requests) (2.0.5)\n",
      "Requirement already satisfied: certifi>=2017.4.17 in /home/jeanarnaudritouret/.pyenv/versions/3.8.6/envs/kaggle_nflbowl_yards/lib/python3.8/site-packages (from requests) (2021.5.30)\n"
     ]
    }
   ],
   "source": [
    "import os; os.system('pip install requests')\n",
    "import requests\n",
    "import datetime\n",
    "response = requests.get(\"https://www.metaweather.com/api/location/44418/\").json()\n",
    "# Do not modify the code above\n",
    "def weather_forecast(response):\n",
    "    today = datetime.date.today()\n",
    "    tomorrow = today + datetime.timedelta(days=1)\n",
    "    city = response.get('title')\n",
    "    for i in range(len(response['consolidated_weather'])):\n",
    "        date_str = response['consolidated_weather'][i].get('applicable_date')\n",
    "        applicable_date1 = datetime.datetime.strptime(date_str, '%Y-%m-%d').date()\n",
    "        if applicable_date1 == tomorrow:\n",
    "            forecast = response['consolidated_weather'][i].get('weather_state_name')\n",
    "            return f\"The weather in {city} tomorrow is {forecast}\""
   ]
  },
  {
   "cell_type": "code",
   "execution_count": 27,
   "id": "d10a3e81",
   "metadata": {},
   "outputs": [
    {
     "data": {
      "text/plain": [
       "'The weather in London tomorrow is Heavy Rain'"
      ]
     },
     "execution_count": 27,
     "metadata": {},
     "output_type": "execute_result"
    }
   ],
   "source": [
    "weather_forecast(response)"
   ]
  },
  {
   "cell_type": "code",
   "execution_count": 30,
   "id": "044c32f7",
   "metadata": {},
   "outputs": [
    {
     "data": {
      "text/plain": [
       "datetime.date(2021, 10, 2)"
      ]
     },
     "execution_count": 30,
     "metadata": {},
     "output_type": "execute_result"
    }
   ],
   "source": [
    "today = datetime.date.today()\n",
    "tomorrow = today + datetime.timedelta(days=1)\n",
    "tomorrow"
   ]
  },
  {
   "cell_type": "code",
   "execution_count": 31,
   "id": "c2285825",
   "metadata": {},
   "outputs": [
    {
     "data": {
      "text/plain": [
       "'2021-10-02'"
      ]
     },
     "execution_count": 31,
     "metadata": {},
     "output_type": "execute_result"
    }
   ],
   "source": [
    "str(tomorrow)"
   ]
  },
  {
   "cell_type": "code",
   "execution_count": 1,
   "id": "5be39cfc",
   "metadata": {},
   "outputs": [
    {
     "name": "stdout",
     "output_type": "stream",
     "text": [
      "01234\n"
     ]
    }
   ],
   "source": [
    "n=5\n",
    "print(''.join([str(i) for i in range(n)]))"
   ]
  },
  {
   "cell_type": "code",
   "execution_count": null,
   "id": "d4e26098",
   "metadata": {},
   "outputs": [],
   "source": []
  }
 ],
 "metadata": {
  "kernelspec": {
   "display_name": "Python 3 (ipykernel)",
   "language": "python",
   "name": "python3"
  },
  "language_info": {
   "codemirror_mode": {
    "name": "ipython",
    "version": 3
   },
   "file_extension": ".py",
   "mimetype": "text/x-python",
   "name": "python",
   "nbconvert_exporter": "python",
   "pygments_lexer": "ipython3",
   "version": "3.8.6"
  },
  "toc": {
   "base_numbering": 1,
   "nav_menu": {},
   "number_sections": true,
   "sideBar": true,
   "skip_h1_title": false,
   "title_cell": "Table of Contents",
   "title_sidebar": "Contents",
   "toc_cell": false,
   "toc_position": {},
   "toc_section_display": true,
   "toc_window_display": false
  }
 },
 "nbformat": 4,
 "nbformat_minor": 5
}
